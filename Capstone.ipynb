{
  "nbformat": 4,
  "nbformat_minor": 0,
  "metadata": {
    "kernelspec": {
      "display_name": "Python 3",
      "language": "python",
      "name": "python3"
    },
    "language_info": {
      "codemirror_mode": {
        "name": "ipython",
        "version": 3
      },
      "file_extension": ".py",
      "mimetype": "text/x-python",
      "name": "python",
      "nbconvert_exporter": "python",
      "pygments_lexer": "ipython3",
      "version": "3.6.13"
    },
    "colab": {
      "name": "Capstone.ipynb",
      "provenance": [],
      "toc_visible": true,
      "include_colab_link": true
    }
  },
  "cells": [
    {
      "cell_type": "markdown",
      "metadata": {
        "id": "view-in-github",
        "colab_type": "text"
      },
      "source": [
        "<a href=\"https://colab.research.google.com/github/rajpratik8484/Capstone_Project/blob/main/Capstone.ipynb\" target=\"_parent\"><img src=\"https://colab.research.google.com/assets/colab-badge.svg\" alt=\"Open In Colab\"/></a>"
      ]
    },
    {
      "cell_type": "code",
      "metadata": {
        "id": "Js4WLEw4259m",
        "colab": {
          "base_uri": "https://localhost:8080/"
        },
        "outputId": "52f21f5c-9602-4f7c-8bfa-24911ede543e"
      },
      "source": [
        "!pip install seaborn==0.9.0"
      ],
      "execution_count": null,
      "outputs": [
        {
          "output_type": "stream",
          "text": [
            "Collecting seaborn==0.9.0\n",
            "\u001b[?25l  Downloading https://files.pythonhosted.org/packages/a8/76/220ba4420459d9c4c9c9587c6ce607bf56c25b3d3d2de62056efe482dadc/seaborn-0.9.0-py3-none-any.whl (208kB)\n",
            "\r\u001b[K     |█▋                              | 10kB 14.1MB/s eta 0:00:01\r\u001b[K     |███▏                            | 20kB 12.5MB/s eta 0:00:01\r\u001b[K     |████▊                           | 30kB 9.1MB/s eta 0:00:01\r\u001b[K     |██████▎                         | 40kB 7.2MB/s eta 0:00:01\r\u001b[K     |███████▉                        | 51kB 4.5MB/s eta 0:00:01\r\u001b[K     |█████████▌                      | 61kB 5.0MB/s eta 0:00:01\r\u001b[K     |███████████                     | 71kB 5.3MB/s eta 0:00:01\r\u001b[K     |████████████▋                   | 81kB 5.4MB/s eta 0:00:01\r\u001b[K     |██████████████▏                 | 92kB 5.6MB/s eta 0:00:01\r\u001b[K     |███████████████▊                | 102kB 5.7MB/s eta 0:00:01\r\u001b[K     |█████████████████▎              | 112kB 5.7MB/s eta 0:00:01\r\u001b[K     |███████████████████             | 122kB 5.7MB/s eta 0:00:01\r\u001b[K     |████████████████████▌           | 133kB 5.7MB/s eta 0:00:01\r\u001b[K     |██████████████████████          | 143kB 5.7MB/s eta 0:00:01\r\u001b[K     |███████████████████████▋        | 153kB 5.7MB/s eta 0:00:01\r\u001b[K     |█████████████████████████▏      | 163kB 5.7MB/s eta 0:00:01\r\u001b[K     |██████████████████████████▊     | 174kB 5.7MB/s eta 0:00:01\r\u001b[K     |████████████████████████████▍   | 184kB 5.7MB/s eta 0:00:01\r\u001b[K     |██████████████████████████████  | 194kB 5.7MB/s eta 0:00:01\r\u001b[K     |███████████████████████████████▌| 204kB 5.7MB/s eta 0:00:01\r\u001b[K     |████████████████████████████████| 215kB 5.7MB/s \n",
            "\u001b[?25hRequirement already satisfied: numpy>=1.9.3 in /usr/local/lib/python3.7/dist-packages (from seaborn==0.9.0) (1.19.5)\n",
            "Requirement already satisfied: scipy>=0.14.0 in /usr/local/lib/python3.7/dist-packages (from seaborn==0.9.0) (1.4.1)\n",
            "Requirement already satisfied: pandas>=0.15.2 in /usr/local/lib/python3.7/dist-packages (from seaborn==0.9.0) (1.1.5)\n",
            "Requirement already satisfied: matplotlib>=1.4.3 in /usr/local/lib/python3.7/dist-packages (from seaborn==0.9.0) (3.2.2)\n",
            "Requirement already satisfied: pytz>=2017.2 in /usr/local/lib/python3.7/dist-packages (from pandas>=0.15.2->seaborn==0.9.0) (2018.9)\n",
            "Requirement already satisfied: python-dateutil>=2.7.3 in /usr/local/lib/python3.7/dist-packages (from pandas>=0.15.2->seaborn==0.9.0) (2.8.1)\n",
            "Requirement already satisfied: kiwisolver>=1.0.1 in /usr/local/lib/python3.7/dist-packages (from matplotlib>=1.4.3->seaborn==0.9.0) (1.3.1)\n",
            "Requirement already satisfied: pyparsing!=2.0.4,!=2.1.2,!=2.1.6,>=2.0.1 in /usr/local/lib/python3.7/dist-packages (from matplotlib>=1.4.3->seaborn==0.9.0) (2.4.7)\n",
            "Requirement already satisfied: cycler>=0.10 in /usr/local/lib/python3.7/dist-packages (from matplotlib>=1.4.3->seaborn==0.9.0) (0.10.0)\n",
            "Requirement already satisfied: six>=1.5 in /usr/local/lib/python3.7/dist-packages (from python-dateutil>=2.7.3->pandas>=0.15.2->seaborn==0.9.0) (1.15.0)\n",
            "Installing collected packages: seaborn\n",
            "  Found existing installation: seaborn 0.11.1\n",
            "    Uninstalling seaborn-0.11.1:\n",
            "      Successfully uninstalled seaborn-0.11.1\n",
            "Successfully installed seaborn-0.9.0\n"
          ],
          "name": "stdout"
        }
      ]
    },
    {
      "cell_type": "code",
      "metadata": {
        "id": "atWxEzQ620w5",
        "colab": {
          "base_uri": "https://localhost:8080/"
        },
        "outputId": "adb5dd90-f720-42b4-db25-773fc7a23f5f"
      },
      "source": [
        "import pandas as pd\n",
        "from pandas import DataFrame\n",
        "import numpy as np\n",
        "\n",
        "import seaborn as sns\n",
        "\n",
        "from sklearn.model_selection import train_test_split,cross_val_score, cross_val_predict\n",
        "from sklearn import datasets, linear_model\n",
        "from sklearn.metrics import accuracy_score\n",
        "from sklearn import metrics\n",
        "from sklearn import svm\n",
        "from sklearn.svm import SVC\n",
        "from sklearn.metrics import mean_squared_error \n",
        "\n",
        "import matplotlib.dates as mdates\n",
        "import matplotlib.pyplot as plt\n",
        "\n",
        "from datetime import datetime, timedelta\n",
        "\n",
        "from statsmodels.tsa.arima_model import ARIMA\n",
        "from statsmodels.tsa.statespace.sarimax import SARIMAX\n",
        "from statsmodels.graphics.tsaplots import plot_acf, plot_pacf\n",
        "from statsmodels.tsa.stattools import adfuller\n",
        "from statsmodels.tsa.seasonal import seasonal_decompose\n",
        "import statsmodels.api as sm\n",
        "\n",
        "from scipy import stats\n",
        "\n",
        "from itertools import product\n",
        "\n",
        "from math import sqrt\n",
        "import warnings\n",
        "warnings.filterwarnings(\"ignore\")"
      ],
      "execution_count": null,
      "outputs": [
        {
          "output_type": "stream",
          "text": [
            "/usr/local/lib/python3.7/dist-packages/statsmodels/tools/_testing.py:19: FutureWarning: pandas.util.testing is deprecated. Use the functions in the public API at pandas.testing instead.\n",
            "  import pandas.util.testing as tm\n"
          ],
          "name": "stderr"
        }
      ]
    },
    {
      "cell_type": "markdown",
      "metadata": {
        "id": "Dz-Letk820w9"
      },
      "source": [
        "# DATA REPRESENTATION"
      ]
    },
    {
      "cell_type": "code",
      "metadata": {
        "id": "4nErCDUw20w_"
      },
      "source": [
        "file_name = r\"bitcoin_cash_price.csv\""
      ],
      "execution_count": null,
      "outputs": []
    },
    {
      "cell_type": "code",
      "metadata": {
        "id": "0jT4yZw320w_"
      },
      "source": [
        "color = sns.color_palette()\n",
        "df = pd.read_csv(file_name,parse_dates=['Date'])\n",
        "df = df.iloc[::-1]\n",
        "df['Date_mpl'] = df['Date'].apply(lambda x: mdates.date2num(x))"
      ],
      "execution_count": null,
      "outputs": []
    },
    {
      "cell_type": "code",
      "metadata": {
        "id": "sSLyFPTm20xA",
        "outputId": "9a46bd92-0a5c-4426-def0-8a6e1ddf3809"
      },
      "source": [
        "#closing price\n",
        "fig, ax = plt.subplots(figsize=(12,8))\n",
        "sns.tsplot(df.Close.values, time=df.Date_mpl.values, alpha=0.8, color=color[1], ax=ax)\n",
        "ax.xaxis.set_major_locator(mdates.AutoDateLocator())\n",
        "ax.xaxis.set_major_formatter(mdates.DateFormatter('%Y.%m.%d'))\n",
        "fig.autofmt_xdate()\n",
        "plt.xlabel('Date', fontsize=12)\n",
        "plt.ylabel('Closing Price in USD', fontsize=12)\n",
        "plt.title(\"Closing price distribution of bitcoin\", fontsize=15)\n",
        "plt.show()"
      ],
      "execution_count": null,
      "outputs": [
        {
          "output_type": "display_data",
          "data": {
            "image/png": "[encoded data removed]",
            "text/plain": [
              "<Figure size 864x576 with 1 Axes>"
            ]
          },
          "metadata": {
            "tags": [],
            "needs_background": "light"
          }
        }
      ]
    },
    {
      "cell_type": "code",
      "metadata": {
        "id": "S4aBYC2b20xC",
        "outputId": "420b2a3a-7092-4f3c-dca3-396482a7c1fb"
      },
      "source": [
        "#opening price\n",
        "fig, ax = plt.subplots(figsize=(12,8))\n",
        "sns.tsplot(df.Open.values, time=df.Date_mpl.values, alpha=0.8, color=color[5], ax=ax)\n",
        "ax.xaxis.set_major_locator(mdates.AutoDateLocator())\n",
        "ax.xaxis.set_major_formatter(mdates.DateFormatter('%Y.%m.%d'))\n",
        "fig.autofmt_xdate()\n",
        "plt.xlabel('Date', fontsize=12)\n",
        "plt.ylabel('Opening Price in USD', fontsize=12)\n",
        "plt.title(\"Opening price distribution of bitcoin\", fontsize=15)\n",
        "plt.show()"
      ],
      "execution_count": null,
      "outputs": [
        {
          "output_type": "display_data",
          "data": {
            "image/png": "[encoded data removed]",
            "text/plain": [
              "<Figure size 864x576 with 1 Axes>"
            ]
          },
          "metadata": {
            "tags": [],
            "needs_background": "light"
          }
        }
      ]
    },
    {
      "cell_type": "markdown",
      "metadata": {
        "id": "MNMZHslm20xD"
      },
      "source": [
        "# LINEAR REGRESSION"
      ]
    },
    {
      "cell_type": "code",
      "metadata": {
        "id": "DBQ0quhp20xE",
        "colab": {
          "base_uri": "https://localhost:8080/",
          "height": 195
        },
        "outputId": "f3cf0f1f-84c8-4957-e163-f29242269691"
      },
      "source": [
        "df = pd.read_csv(r\"bitcoin_cash_price.csv\")\n",
        "df.head()"
      ],
      "execution_count": null,
      "outputs": [
        {
          "output_type": "execute_result",
          "data": {
            "text/html": [
              "<div>\n",
              "<style scoped>\n",
              "    .dataframe tbody tr th:only-of-type {\n",
              "        vertical-align: middle;\n",
              "    }\n",
              "\n",
              "    .dataframe tbody tr th {\n",
              "        vertical-align: top;\n",
              "    }\n",
              "\n",
              "    .dataframe thead th {\n",
              "        text-align: right;\n",
              "    }\n",
              "</style>\n",
              "<table border=\"1\" class=\"dataframe\">\n",
              "  <thead>\n",
              "    <tr style=\"text-align: right;\">\n",
              "      <th></th>\n",
              "      <th>Date</th>\n",
              "      <th>Open</th>\n",
              "      <th>High</th>\n",
              "      <th>Low</th>\n",
              "      <th>Close</th>\n",
              "      <th>Volume</th>\n",
              "      <th>Market Cap</th>\n",
              "    </tr>\n",
              "  </thead>\n",
              "  <tbody>\n",
              "    <tr>\n",
              "      <th>0</th>\n",
              "      <td>Feb 20, 2018</td>\n",
              "      <td>1543.27</td>\n",
              "      <td>1569.03</td>\n",
              "      <td>1414.35</td>\n",
              "      <td>1418.73</td>\n",
              "      <td>820,947,000</td>\n",
              "      <td>26,199,800,000</td>\n",
              "    </tr>\n",
              "    <tr>\n",
              "      <th>1</th>\n",
              "      <td>Feb 19, 2018</td>\n",
              "      <td>1483.34</td>\n",
              "      <td>1553.81</td>\n",
              "      <td>1483.34</td>\n",
              "      <td>1534.77</td>\n",
              "      <td>578,906,000</td>\n",
              "      <td>25,179,700,000</td>\n",
              "    </tr>\n",
              "    <tr>\n",
              "      <th>2</th>\n",
              "      <td>Feb 18, 2018</td>\n",
              "      <td>1552.10</td>\n",
              "      <td>1641.40</td>\n",
              "      <td>1428.49</td>\n",
              "      <td>1487.46</td>\n",
              "      <td>907,873,000</td>\n",
              "      <td>26,344,200,000</td>\n",
              "    </tr>\n",
              "    <tr>\n",
              "      <th>3</th>\n",
              "      <td>Feb 17, 2018</td>\n",
              "      <td>1548.48</td>\n",
              "      <td>1568.64</td>\n",
              "      <td>1517.14</td>\n",
              "      <td>1551.39</td>\n",
              "      <td>641,719,000</td>\n",
              "      <td>26,280,100,000</td>\n",
              "    </tr>\n",
              "    <tr>\n",
              "      <th>4</th>\n",
              "      <td>Feb 16, 2018</td>\n",
              "      <td>1373.16</td>\n",
              "      <td>1558.66</td>\n",
              "      <td>1369.68</td>\n",
              "      <td>1552.20</td>\n",
              "      <td>961,010,000</td>\n",
              "      <td>23,302,000,000</td>\n",
              "    </tr>\n",
              "  </tbody>\n",
              "</table>\n",
              "</div>"
            ],
            "text/plain": [
              "           Date     Open     High  ...    Close       Volume      Market Cap\n",
              "0  Feb 20, 2018  1543.27  1569.03  ...  1418.73  820,947,000  26,199,800,000\n",
              "1  Feb 19, 2018  1483.34  1553.81  ...  1534.77  578,906,000  25,179,700,000\n",
              "2  Feb 18, 2018  1552.10  1641.40  ...  1487.46  907,873,000  26,344,200,000\n",
              "3  Feb 17, 2018  1548.48  1568.64  ...  1551.39  641,719,000  26,280,100,000\n",
              "4  Feb 16, 2018  1373.16  1558.66  ...  1552.20  961,010,000  23,302,000,000\n",
              "\n",
              "[5 rows x 7 columns]"
            ]
          },
          "metadata": {
            "tags": []
          },
          "execution_count": 7
        }
      ]
    },
    {
      "cell_type": "code",
      "metadata": {
        "id": "l9rJShaG20xF"
      },
      "source": [
        "df = df.iloc[::-1]"
      ],
      "execution_count": null,
      "outputs": []
    },
    {
      "cell_type": "code",
      "metadata": {
        "id": "W4LcxR8r20xF",
        "colab": {
          "base_uri": "https://localhost:8080/",
          "height": 195
        },
        "outputId": "544af2fb-79c9-4ec4-a6fa-d552d4534917"
      },
      "source": [
        "df.head()"
      ],
      "execution_count": null,
      "outputs": [
        {
          "output_type": "execute_result",
          "data": {
            "text/html": [
              "<div>\n",
              "<style scoped>\n",
              "    .dataframe tbody tr th:only-of-type {\n",
              "        vertical-align: middle;\n",
              "    }\n",
              "\n",
              "    .dataframe tbody tr th {\n",
              "        vertical-align: top;\n",
              "    }\n",
              "\n",
              "    .dataframe thead th {\n",
              "        text-align: right;\n",
              "    }\n",
              "</style>\n",
              "<table border=\"1\" class=\"dataframe\">\n",
              "  <thead>\n",
              "    <tr style=\"text-align: right;\">\n",
              "      <th></th>\n",
              "      <th>Date</th>\n",
              "      <th>Open</th>\n",
              "      <th>High</th>\n",
              "      <th>Low</th>\n",
              "      <th>Close</th>\n",
              "      <th>Volume</th>\n",
              "      <th>Market Cap</th>\n",
              "    </tr>\n",
              "  </thead>\n",
              "  <tbody>\n",
              "    <tr>\n",
              "      <th>212</th>\n",
              "      <td>Jul 23, 2017</td>\n",
              "      <td>555.89</td>\n",
              "      <td>578.97</td>\n",
              "      <td>411.78</td>\n",
              "      <td>413.06</td>\n",
              "      <td>85,013</td>\n",
              "      <td>-</td>\n",
              "    </tr>\n",
              "    <tr>\n",
              "      <th>211</th>\n",
              "      <td>Jul 24, 2017</td>\n",
              "      <td>412.58</td>\n",
              "      <td>578.89</td>\n",
              "      <td>409.21</td>\n",
              "      <td>440.70</td>\n",
              "      <td>190,952</td>\n",
              "      <td>-</td>\n",
              "    </tr>\n",
              "    <tr>\n",
              "      <th>210</th>\n",
              "      <td>Jul 25, 2017</td>\n",
              "      <td>441.35</td>\n",
              "      <td>541.66</td>\n",
              "      <td>338.09</td>\n",
              "      <td>406.90</td>\n",
              "      <td>524,908</td>\n",
              "      <td>-</td>\n",
              "    </tr>\n",
              "    <tr>\n",
              "      <th>209</th>\n",
              "      <td>Jul 26, 2017</td>\n",
              "      <td>407.08</td>\n",
              "      <td>486.16</td>\n",
              "      <td>321.79</td>\n",
              "      <td>365.82</td>\n",
              "      <td>1,784,640</td>\n",
              "      <td>-</td>\n",
              "    </tr>\n",
              "    <tr>\n",
              "      <th>208</th>\n",
              "      <td>Jul 27, 2017</td>\n",
              "      <td>417.10</td>\n",
              "      <td>460.97</td>\n",
              "      <td>367.78</td>\n",
              "      <td>385.48</td>\n",
              "      <td>533,207</td>\n",
              "      <td>-</td>\n",
              "    </tr>\n",
              "  </tbody>\n",
              "</table>\n",
              "</div>"
            ],
            "text/plain": [
              "             Date    Open    High     Low   Close     Volume Market Cap\n",
              "212  Jul 23, 2017  555.89  578.97  411.78  413.06     85,013          -\n",
              "211  Jul 24, 2017  412.58  578.89  409.21  440.70    190,952          -\n",
              "210  Jul 25, 2017  441.35  541.66  338.09  406.90    524,908          -\n",
              "209  Jul 26, 2017  407.08  486.16  321.79  365.82  1,784,640          -\n",
              "208  Jul 27, 2017  417.10  460.97  367.78  385.48    533,207          -"
            ]
          },
          "metadata": {
            "tags": []
          },
          "execution_count": 9
        }
      ]
    },
    {
      "cell_type": "code",
      "metadata": {
        "id": "fMuAb60d20xH",
        "colab": {
          "base_uri": "https://localhost:8080/"
        },
        "outputId": "f599fef0-1c4b-44ce-cb97-fcb989334ac9"
      },
      "source": [
        "y = df[\"Close\"]\n",
        "y = y.values.reshape(-1, 1)\n",
        "y"
      ],
      "execution_count": null,
      "outputs": [
        {
          "output_type": "execute_result",
          "data": {
            "text/plain": [
              "array([[ 413.06],\n",
              "       [ 440.7 ],\n",
              "       [ 406.9 ],\n",
              "       [ 365.82],\n",
              "       [ 385.48],\n",
              "       [ 406.05],\n",
              "       [ 384.77],\n",
              "       [ 345.66],\n",
              "       [ 294.46],\n",
              "       [ 380.01],\n",
              "       [ 452.66],\n",
              "       [ 364.05],\n",
              "       [ 233.05],\n",
              "       [ 213.15],\n",
              "       [ 220.66],\n",
              "       [ 319.69],\n",
              "       [ 345.49],\n",
              "       [ 303.89],\n",
              "       [ 275.95],\n",
              "       [ 328.24],\n",
              "       [ 317.09],\n",
              "       [ 298.05],\n",
              "       [ 297.68],\n",
              "       [ 297.86],\n",
              "       [ 300.21],\n",
              "       [ 460.53],\n",
              "       [ 690.24],\n",
              "       [ 754.56],\n",
              "       [ 712.87],\n",
              "       [ 599.63],\n",
              "       [ 690.88],\n",
              "       [ 669.4 ],\n",
              "       [ 628.11],\n",
              "       [ 641.05],\n",
              "       [ 625.32],\n",
              "       [ 620.9 ],\n",
              "       [ 596.18],\n",
              "       [ 552.93],\n",
              "       [ 575.21],\n",
              "       [ 588.17],\n",
              "       [ 622.17],\n",
              "       [ 575.9 ],\n",
              "       [ 607.43],\n",
              "       [ 517.24],\n",
              "       [ 541.71],\n",
              "       [ 638.18],\n",
              "       [ 652.86],\n",
              "       [ 583.1 ],\n",
              "       [ 547.47],\n",
              "       [ 537.07],\n",
              "       [ 537.81],\n",
              "       [ 510.41],\n",
              "       [ 503.61],\n",
              "       [ 367.04],\n",
              "       [ 424.02],\n",
              "       [ 440.22],\n",
              "       [ 419.86],\n",
              "       [ 479.32],\n",
              "       [ 527.88],\n",
              "       [ 476.05],\n",
              "       [ 416.26],\n",
              "       [ 415.09],\n",
              "       [ 428.5 ],\n",
              "       [ 421.03],\n",
              "       [ 445.8 ],\n",
              "       [ 441.83],\n",
              "       [ 457.31],\n",
              "       [ 447.81],\n",
              "       [ 436.77],\n",
              "       [ 432.63],\n",
              "       [ 415.15],\n",
              "       [ 421.19],\n",
              "       [ 404.18],\n",
              "       [ 358.45],\n",
              "       [ 355.75],\n",
              "       [ 363.01],\n",
              "       [ 360.78],\n",
              "       [ 342.21],\n",
              "       [ 314.16],\n",
              "       [ 321.59],\n",
              "       [ 314.9 ],\n",
              "       [ 313.21],\n",
              "       [ 321.46],\n",
              "       [ 321.96],\n",
              "       [ 314.95],\n",
              "       [ 313.64],\n",
              "       [ 371.73],\n",
              "       [ 339.17],\n",
              "       [ 330.81],\n",
              "       [ 327.44],\n",
              "       [ 323.36],\n",
              "       [ 331.66],\n",
              "       [ 315.6 ],\n",
              "       [ 326.89],\n",
              "       [ 332.13],\n",
              "       [ 338.2 ],\n",
              "       [ 367.57],\n",
              "       [ 423.35],\n",
              "       [ 451.92],\n",
              "       [ 448.23],\n",
              "       [ 439.05],\n",
              "       [ 531.83],\n",
              "       [ 587.22],\n",
              "       [ 625.32],\n",
              "       [ 620.45],\n",
              "       [ 630.7 ],\n",
              "       [ 602.65],\n",
              "       [ 616.3 ],\n",
              "       [ 622.46],\n",
              "       [ 654.3 ],\n",
              "       [1007.42],\n",
              "       [1340.45],\n",
              "       [1388.86],\n",
              "       [1353.99],\n",
              "       [1273.53],\n",
              "       [1212.4 ],\n",
              "       [ 900.78],\n",
              "       [1185.48],\n",
              "       [1254.53],\n",
              "       [1172.05],\n",
              "       [1236.01],\n",
              "       [1176.97],\n",
              "       [1303.31],\n",
              "       [1683.81],\n",
              "       [1648.51],\n",
              "       [1571.27],\n",
              "       [1735.66],\n",
              "       [1622.57],\n",
              "       [1546.18],\n",
              "       [1359.71],\n",
              "       [1389.78],\n",
              "       [1462.68],\n",
              "       [1434.98],\n",
              "       [1559.93],\n",
              "       [1576.92],\n",
              "       [1501.85],\n",
              "       [1430.1 ],\n",
              "       [1330.93],\n",
              "       [1464.13],\n",
              "       [1410.06],\n",
              "       [1323.07],\n",
              "       [1423.38],\n",
              "       [1615.03],\n",
              "       [1607.65],\n",
              "       [1966.14],\n",
              "       [1815.43],\n",
              "       [1801.88],\n",
              "       [1862.88],\n",
              "       [2196.64],\n",
              "       [2805.89],\n",
              "       [3923.07],\n",
              "       [3267.17],\n",
              "       [2696.69],\n",
              "       [3257.08],\n",
              "       [2903.12],\n",
              "       [2954.69],\n",
              "       [3108.89],\n",
              "       [2889.52],\n",
              "       [2566.64],\n",
              "       [2779.95],\n",
              "       [2392.41],\n",
              "       [2533.01],\n",
              "       [2432.54],\n",
              "       [2711.  ],\n",
              "       [2608.69],\n",
              "       [2430.18],\n",
              "       [2584.48],\n",
              "       [2786.65],\n",
              "       [2786.88],\n",
              "       [2421.47],\n",
              "       [2391.56],\n",
              "       [2895.38],\n",
              "       [2462.61],\n",
              "       [2620.99],\n",
              "       [2685.29],\n",
              "       [2553.32],\n",
              "       [2401.54],\n",
              "       [1772.07],\n",
              "       [1748.05],\n",
              "       [1756.75],\n",
              "       [1769.62],\n",
              "       [2032.12],\n",
              "       [1776.64],\n",
              "       [1621.92],\n",
              "       [1621.46],\n",
              "       [1639.13],\n",
              "       [1642.12],\n",
              "       [1603.9 ],\n",
              "       [1628.63],\n",
              "       [1746.25],\n",
              "       [1657.14],\n",
              "       [1470.55],\n",
              "       [1486.89],\n",
              "       [1274.35],\n",
              "       [1191.14],\n",
              "       [1272.5 ],\n",
              "       [1165.38],\n",
              "       [ 887.41],\n",
              "       [ 974.52],\n",
              "       [ 957.96],\n",
              "       [1284.56],\n",
              "       [1312.11],\n",
              "       [1257.31],\n",
              "       [1217.64],\n",
              "       [1283.91],\n",
              "       [1231.98],\n",
              "       [1362.27],\n",
              "       [1375.81],\n",
              "       [1552.2 ],\n",
              "       [1551.39],\n",
              "       [1487.46],\n",
              "       [1534.77],\n",
              "       [1418.73]])"
            ]
          },
          "metadata": {
            "tags": []
          },
          "execution_count": 10
        }
      ]
    },
    {
      "cell_type": "code",
      "metadata": {
        "id": "J5umTN8f20xH",
        "colab": {
          "base_uri": "https://localhost:8080/"
        },
        "outputId": "9258c506-a7a3-4549-c488-06d7aadc2e3c"
      },
      "source": [
        "x = df[\"Open\"]\n",
        "x = x.values.reshape(-1, 1)\n",
        "x"
      ],
      "execution_count": null,
      "outputs": [
        {
          "output_type": "execute_result",
          "data": {
            "text/plain": [
              "array([[ 555.89],\n",
              "       [ 412.58],\n",
              "       [ 441.35],\n",
              "       [ 407.08],\n",
              "       [ 417.1 ],\n",
              "       [ 386.65],\n",
              "       [ 410.56],\n",
              "       [ 385.14],\n",
              "       [ 346.36],\n",
              "       [ 294.6 ],\n",
              "       [ 382.38],\n",
              "       [ 448.49],\n",
              "       [ 362.18],\n",
              "       [ 231.11],\n",
              "       [ 212.18],\n",
              "       [ 223.76],\n",
              "       [ 321.35],\n",
              "       [ 345.28],\n",
              "       [ 305.21],\n",
              "       [ 275.88],\n",
              "       [ 327.82],\n",
              "       [ 316.29],\n",
              "       [ 296.1 ],\n",
              "       [ 298.19],\n",
              "       [ 297.97],\n",
              "       [ 301.02],\n",
              "       [ 458.67],\n",
              "       [ 697.04],\n",
              "       [ 772.42],\n",
              "       [ 723.7 ],\n",
              "       [ 596.19],\n",
              "       [ 690.96],\n",
              "       [ 670.03],\n",
              "       [ 627.06],\n",
              "       [ 641.88],\n",
              "       [ 625.89],\n",
              "       [ 619.7 ],\n",
              "       [ 596.13],\n",
              "       [ 549.32],\n",
              "       [ 576.25],\n",
              "       [ 588.4 ],\n",
              "       [ 621.96],\n",
              "       [ 578.27],\n",
              "       [ 608.26],\n",
              "       [ 514.9 ],\n",
              "       [ 541.28],\n",
              "       [ 636.85],\n",
              "       [ 654.37],\n",
              "       [ 584.73],\n",
              "       [ 546.48],\n",
              "       [ 537.19],\n",
              "       [ 539.03],\n",
              "       [ 509.47],\n",
              "       [ 504.22],\n",
              "       [ 369.49],\n",
              "       [ 424.49],\n",
              "       [ 438.9 ],\n",
              "       [ 422.09],\n",
              "       [ 480.64],\n",
              "       [ 526.74],\n",
              "       [ 475.83],\n",
              "       [ 417.92],\n",
              "       [ 415.31],\n",
              "       [ 428.8 ],\n",
              "       [ 419.65],\n",
              "       [ 445.36],\n",
              "       [ 441.86],\n",
              "       [ 456.71],\n",
              "       [ 447.66],\n",
              "       [ 436.64],\n",
              "       [ 433.38],\n",
              "       [ 415.87],\n",
              "       [ 421.79],\n",
              "       [ 404.2 ],\n",
              "       [ 358.42],\n",
              "       [ 355.44],\n",
              "       [ 363.6 ],\n",
              "       [ 360.09],\n",
              "       [ 342.76],\n",
              "       [ 313.22],\n",
              "       [ 320.2 ],\n",
              "       [ 315.47],\n",
              "       [ 314.15],\n",
              "       [ 321.54],\n",
              "       [ 322.42],\n",
              "       [ 315.26],\n",
              "       [ 313.7 ],\n",
              "       [ 373.65],\n",
              "       [ 339.27],\n",
              "       [ 330.9 ],\n",
              "       [ 326.75],\n",
              "       [ 323.5 ],\n",
              "       [ 330.67],\n",
              "       [ 315.9 ],\n",
              "       [ 326.59],\n",
              "       [ 332.11],\n",
              "       [ 338.3 ],\n",
              "       [ 369.54],\n",
              "       [ 420.47],\n",
              "       [ 458.45],\n",
              "       [ 449.37],\n",
              "       [ 438.3 ],\n",
              "       [ 527.68],\n",
              "       [ 587.32],\n",
              "       [ 635.35],\n",
              "       [ 619.91],\n",
              "       [ 630.31],\n",
              "       [ 602.68],\n",
              "       [ 615.24],\n",
              "       [ 622.31],\n",
              "       [ 651.77],\n",
              "       [1001.64],\n",
              "       [1346.97],\n",
              "       [1381.82],\n",
              "       [1346.73],\n",
              "       [1269.79],\n",
              "       [1202.17],\n",
              "       [ 909.16],\n",
              "       [1197.43],\n",
              "       [1260.95],\n",
              "       [1172.43],\n",
              "       [1220.78],\n",
              "       [1175.06],\n",
              "       [1302.23],\n",
              "       [1651.86],\n",
              "       [1634.  ],\n",
              "       [1571.39],\n",
              "       [1722.93],\n",
              "       [1621.17],\n",
              "       [1541.63],\n",
              "       [1380.36],\n",
              "       [1381.81],\n",
              "       [1462.06],\n",
              "       [1435.36],\n",
              "       [1560.16],\n",
              "       [1580.16],\n",
              "       [1498.49],\n",
              "       [1430.71],\n",
              "       [1329.16],\n",
              "       [1464.63],\n",
              "       [1411.84],\n",
              "       [1320.  ],\n",
              "       [1427.38],\n",
              "       [1616.99],\n",
              "       [1600.67],\n",
              "       [1974.66],\n",
              "       [1824.85],\n",
              "       [1812.33],\n",
              "       [1869.21],\n",
              "       [2199.06],\n",
              "       [2825.03],\n",
              "       [3909.  ],\n",
              "       [3324.  ],\n",
              "       [2746.95],\n",
              "       [3260.55],\n",
              "       [2929.35],\n",
              "       [2947.74],\n",
              "       [3108.32],\n",
              "       [2888.64],\n",
              "       [2587.3 ],\n",
              "       [2791.55],\n",
              "       [2376.96],\n",
              "       [2534.82],\n",
              "       [2434.5 ],\n",
              "       [2700.55],\n",
              "       [2608.87],\n",
              "       [2400.74],\n",
              "       [2583.71],\n",
              "       [2784.68],\n",
              "       [2786.6 ],\n",
              "       [2412.36],\n",
              "       [2390.02],\n",
              "       [2891.55],\n",
              "       [2475.9 ],\n",
              "       [2617.66],\n",
              "       [2687.1 ],\n",
              "       [2541.58],\n",
              "       [2406.86],\n",
              "       [1767.58],\n",
              "       [1752.27],\n",
              "       [1740.17],\n",
              "       [1784.26],\n",
              "       [2033.7 ],\n",
              "       [1794.46],\n",
              "       [1623.14],\n",
              "       [1622.15],\n",
              "       [1661.04],\n",
              "       [1637.19],\n",
              "       [1602.5 ],\n",
              "       [1636.41],\n",
              "       [1745.36],\n",
              "       [1657.69],\n",
              "       [1470.74],\n",
              "       [1491.12],\n",
              "       [1272.5 ],\n",
              "       [1194.23],\n",
              "       [1273.17],\n",
              "       [1159.89],\n",
              "       [ 890.97],\n",
              "       [ 971.08],\n",
              "       [ 951.57],\n",
              "       [1273.87],\n",
              "       [1311.99],\n",
              "       [1255.59],\n",
              "       [1222.43],\n",
              "       [1285.23],\n",
              "       [1229.18],\n",
              "       [1358.65],\n",
              "       [1373.16],\n",
              "       [1548.48],\n",
              "       [1552.1 ],\n",
              "       [1483.34],\n",
              "       [1543.27]])"
            ]
          },
          "metadata": {
            "tags": []
          },
          "execution_count": 11
        }
      ]
    },
    {
      "cell_type": "code",
      "metadata": {
        "id": "MFh6Jpei20xI",
        "colab": {
          "base_uri": "https://localhost:8080/"
        },
        "outputId": "9f8f92c8-0650-4cc6-da38-1fff3364fcfd"
      },
      "source": [
        "# create training and testing vars\n",
        "X_train, X_test, y_train, y_test = train_test_split(x, y, test_size=0.2)\n",
        "print(X_train.shape, y_train.shape)\n",
        "print(X_test.shape, y_test.shape)"
      ],
      "execution_count": null,
      "outputs": [
        {
          "output_type": "stream",
          "text": [
            "(170, 1) (170, 1)\n",
            "(43, 1) (43, 1)\n"
          ],
          "name": "stdout"
        }
      ]
    },
    {
      "cell_type": "code",
      "metadata": {
        "id": "bvjCdUDm20xJ",
        "colab": {
          "base_uri": "https://localhost:8080/"
        },
        "outputId": "54b1bdea-83f8-4b59-b3e9-75fcfdc2fcbc"
      },
      "source": [
        "X_train"
      ],
      "execution_count": null,
      "outputs": [
        {
          "output_type": "execute_result",
          "data": {
            "text/plain": [
              "array([[ 422.09],\n",
              "       [ 321.35],\n",
              "       [ 231.11],\n",
              "       [ 539.03],\n",
              "       [2891.55],\n",
              "       [1571.39],\n",
              "       [1637.19],\n",
              "       [ 541.28],\n",
              "       [ 297.97],\n",
              "       [ 322.42],\n",
              "       [ 456.71],\n",
              "       [2475.9 ],\n",
              "       [1784.26],\n",
              "       [ 527.68],\n",
              "       [2412.36],\n",
              "       [2947.74],\n",
              "       [ 330.67],\n",
              "       [ 360.09],\n",
              "       [1159.89],\n",
              "       [2390.02],\n",
              "       [3108.32],\n",
              "       [ 619.7 ],\n",
              "       [1869.21],\n",
              "       [2687.1 ],\n",
              "       [1175.06],\n",
              "       [1634.  ],\n",
              "       [ 625.89],\n",
              "       [1543.27],\n",
              "       [1202.17],\n",
              "       [ 578.27],\n",
              "       [1483.34],\n",
              "       [1194.23],\n",
              "       [1381.81],\n",
              "       [ 338.3 ],\n",
              "       [1255.59],\n",
              "       [1346.97],\n",
              "       [ 404.2 ],\n",
              "       [ 449.37],\n",
              "       [1498.49],\n",
              "       [1974.66],\n",
              "       [1740.17],\n",
              "       [ 382.38],\n",
              "       [1580.16],\n",
              "       [ 345.28],\n",
              "       [ 697.04],\n",
              "       [ 971.08],\n",
              "       [ 441.86],\n",
              "       [1636.41],\n",
              "       [1222.43],\n",
              "       [1752.27],\n",
              "       [ 654.37],\n",
              "       [ 330.9 ],\n",
              "       [1273.87],\n",
              "       [2825.03],\n",
              "       [ 635.35],\n",
              "       [ 323.5 ],\n",
              "       [ 438.9 ],\n",
              "       [1812.33],\n",
              "       [2534.82],\n",
              "       [ 369.54],\n",
              "       [1346.73],\n",
              "       [1616.99],\n",
              "       [1600.67],\n",
              "       [2400.74],\n",
              "       [ 555.89],\n",
              "       [1602.5 ],\n",
              "       [ 321.54],\n",
              "       [ 407.08],\n",
              "       [1430.71],\n",
              "       [ 412.58],\n",
              "       [1285.23],\n",
              "       [ 584.73],\n",
              "       [ 420.47],\n",
              "       [1548.48],\n",
              "       [1220.78],\n",
              "       [ 621.96],\n",
              "       [ 314.15],\n",
              "       [2746.95],\n",
              "       [ 619.91],\n",
              "       [1622.15],\n",
              "       [1794.46],\n",
              "       [1381.82],\n",
              "       [1657.69],\n",
              "       [ 636.85],\n",
              "       [1172.43],\n",
              "       [ 480.64],\n",
              "       [ 296.1 ],\n",
              "       [ 576.25],\n",
              "       [ 458.45],\n",
              "       [ 772.42],\n",
              "       [1358.65],\n",
              "       [ 615.24],\n",
              "       [1722.93],\n",
              "       [ 385.14],\n",
              "       [ 641.88],\n",
              "       [ 421.79],\n",
              "       [2700.55],\n",
              "       [ 363.6 ],\n",
              "       [ 436.64],\n",
              "       [2434.5 ],\n",
              "       [ 223.76],\n",
              "       [2617.66],\n",
              "       [1560.16],\n",
              "       [1197.43],\n",
              "       [ 651.77],\n",
              "       [ 342.76],\n",
              "       [2784.68],\n",
              "       [ 723.7 ],\n",
              "       [1269.79],\n",
              "       [ 514.9 ],\n",
              "       [2376.96],\n",
              "       [ 526.74],\n",
              "       [1229.18],\n",
              "       [1373.16],\n",
              "       [ 458.67],\n",
              "       [3324.  ],\n",
              "       [ 447.66],\n",
              "       [ 537.19],\n",
              "       [ 509.47],\n",
              "       [ 417.1 ],\n",
              "       [ 602.68],\n",
              "       [1745.36],\n",
              "       [2608.87],\n",
              "       [ 890.97],\n",
              "       [ 909.16],\n",
              "       [ 294.6 ],\n",
              "       [2199.06],\n",
              "       [ 690.96],\n",
              "       [ 369.49],\n",
              "       [ 212.18],\n",
              "       [1320.  ],\n",
              "       [ 608.26],\n",
              "       [1824.85],\n",
              "       [1541.63],\n",
              "       [ 386.65],\n",
              "       [2791.55],\n",
              "       [3909.  ],\n",
              "       [2587.3 ],\n",
              "       [ 332.11],\n",
              "       [ 373.65],\n",
              "       [ 326.59],\n",
              "       [1311.99],\n",
              "       [2406.86],\n",
              "       [ 326.75],\n",
              "       [ 433.38],\n",
              "       [ 316.29],\n",
              "       [2033.7 ],\n",
              "       [ 428.8 ],\n",
              "       [ 445.36],\n",
              "       [ 441.35],\n",
              "       [1661.04],\n",
              "       [ 415.31],\n",
              "       [1462.06],\n",
              "       [1435.36],\n",
              "       [ 275.88],\n",
              "       [1621.17],\n",
              "       [ 301.02],\n",
              "       [ 622.31],\n",
              "       [1380.36],\n",
              "       [ 630.31],\n",
              "       [ 358.42],\n",
              "       [ 438.3 ],\n",
              "       [ 951.57],\n",
              "       [2888.64],\n",
              "       [ 587.32],\n",
              "       [ 546.48],\n",
              "       [ 298.19],\n",
              "       [2929.35],\n",
              "       [2583.71],\n",
              "       [ 424.49]])"
            ]
          },
          "metadata": {
            "tags": []
          },
          "execution_count": 13
        }
      ]
    },
    {
      "cell_type": "code",
      "metadata": {
        "id": "gxGbKx7k20xK",
        "colab": {
          "base_uri": "https://localhost:8080/"
        },
        "outputId": "9ac25c18-fea4-48a1-f5d7-70c4b7be9d71"
      },
      "source": [
        "y_train"
      ],
      "execution_count": null,
      "outputs": [
        {
          "output_type": "execute_result",
          "data": {
            "text/plain": [
              "array([[ 479.32],\n",
              "       [ 345.49],\n",
              "       [ 213.15],\n",
              "       [ 510.41],\n",
              "       [2462.61],\n",
              "       [1735.66],\n",
              "       [1603.9 ],\n",
              "       [ 638.18],\n",
              "       [ 300.21],\n",
              "       [ 314.95],\n",
              "       [ 447.81],\n",
              "       [2620.99],\n",
              "       [2032.12],\n",
              "       [ 587.22],\n",
              "       [2391.56],\n",
              "       [3108.89],\n",
              "       [ 315.6 ],\n",
              "       [ 342.21],\n",
              "       [ 887.41],\n",
              "       [2895.38],\n",
              "       [2889.52],\n",
              "       [ 596.18],\n",
              "       [2196.64],\n",
              "       [2553.32],\n",
              "       [1303.31],\n",
              "       [1571.27],\n",
              "       [ 620.9 ],\n",
              "       [1418.73],\n",
              "       [ 900.78],\n",
              "       [ 607.43],\n",
              "       [1534.77],\n",
              "       [1272.5 ],\n",
              "       [1462.68],\n",
              "       [ 367.57],\n",
              "       [1217.64],\n",
              "       [1388.86],\n",
              "       [ 358.45],\n",
              "       [ 439.05],\n",
              "       [1430.1 ],\n",
              "       [1815.43],\n",
              "       [1769.62],\n",
              "       [ 452.66],\n",
              "       [1501.85],\n",
              "       [ 303.89],\n",
              "       [ 754.56],\n",
              "       [ 957.96],\n",
              "       [ 457.31],\n",
              "       [1746.25],\n",
              "       [1283.91],\n",
              "       [1756.75],\n",
              "       [ 583.1 ],\n",
              "       [ 327.44],\n",
              "       [1312.11],\n",
              "       [3923.07],\n",
              "       [ 620.45],\n",
              "       [ 331.66],\n",
              "       [ 419.86],\n",
              "       [1862.88],\n",
              "       [2432.54],\n",
              "       [ 423.35],\n",
              "       [1273.53],\n",
              "       [1607.65],\n",
              "       [1966.14],\n",
              "       [2584.48],\n",
              "       [ 413.06],\n",
              "       [1628.63],\n",
              "       [ 321.96],\n",
              "       [ 365.82],\n",
              "       [1330.93],\n",
              "       [ 440.7 ],\n",
              "       [1231.98],\n",
              "       [ 547.47],\n",
              "       [ 451.92],\n",
              "       [1551.39],\n",
              "       [1176.97],\n",
              "       [ 575.9 ],\n",
              "       [ 321.46],\n",
              "       [3257.08],\n",
              "       [ 630.7 ],\n",
              "       [1639.13],\n",
              "       [1621.92],\n",
              "       [1353.99],\n",
              "       [1470.55],\n",
              "       [ 652.86],\n",
              "       [1236.01],\n",
              "       [ 527.88],\n",
              "       [ 297.68],\n",
              "       [ 588.17],\n",
              "       [ 448.23],\n",
              "       [ 712.87],\n",
              "       [1375.81],\n",
              "       [ 622.46],\n",
              "       [1622.57],\n",
              "       [ 345.66],\n",
              "       [ 625.32],\n",
              "       [ 404.18],\n",
              "       [2608.69],\n",
              "       [ 360.78],\n",
              "       [ 432.63],\n",
              "       [2711.  ],\n",
              "       [ 319.69],\n",
              "       [2685.29],\n",
              "       [1576.92],\n",
              "       [1254.53],\n",
              "       [1007.42],\n",
              "       [ 314.16],\n",
              "       [2786.88],\n",
              "       [ 599.63],\n",
              "       [1212.4 ],\n",
              "       [ 541.71],\n",
              "       [2533.01],\n",
              "       [ 476.05],\n",
              "       [1362.27],\n",
              "       [1552.2 ],\n",
              "       [ 690.24],\n",
              "       [2696.69],\n",
              "       [ 436.77],\n",
              "       [ 537.81],\n",
              "       [ 503.61],\n",
              "       [ 385.48],\n",
              "       [ 616.3 ],\n",
              "       [1657.14],\n",
              "       [2430.18],\n",
              "       [ 974.52],\n",
              "       [1185.48],\n",
              "       [ 380.01],\n",
              "       [2805.89],\n",
              "       [ 669.4 ],\n",
              "       [ 424.02],\n",
              "       [ 220.66],\n",
              "       [1423.38],\n",
              "       [ 517.24],\n",
              "       [1801.88],\n",
              "       [1359.71],\n",
              "       [ 406.05],\n",
              "       [2392.41],\n",
              "       [3267.17],\n",
              "       [2779.95],\n",
              "       [ 338.2 ],\n",
              "       [ 339.17],\n",
              "       [ 332.13],\n",
              "       [1257.31],\n",
              "       [1772.07],\n",
              "       [ 323.36],\n",
              "       [ 415.15],\n",
              "       [ 298.05],\n",
              "       [1776.64],\n",
              "       [ 421.03],\n",
              "       [ 441.83],\n",
              "       [ 406.9 ],\n",
              "       [1642.12],\n",
              "       [ 428.5 ],\n",
              "       [1434.98],\n",
              "       [1559.93],\n",
              "       [ 328.24],\n",
              "       [1546.18],\n",
              "       [ 460.53],\n",
              "       [ 654.3 ],\n",
              "       [1389.78],\n",
              "       [ 602.65],\n",
              "       [ 355.75],\n",
              "       [ 531.83],\n",
              "       [1284.56],\n",
              "       [2566.64],\n",
              "       [ 625.32],\n",
              "       [ 537.07],\n",
              "       [ 297.86],\n",
              "       [2954.69],\n",
              "       [2786.65],\n",
              "       [ 440.22]])"
            ]
          },
          "metadata": {
            "tags": []
          },
          "execution_count": 14
        }
      ]
    },
    {
      "cell_type": "code",
      "metadata": {
        "id": "3wif5Co620xK",
        "colab": {
          "base_uri": "https://localhost:8080/"
        },
        "outputId": "c352e8c0-4c49-48ef-d562-c8762604379b"
      },
      "source": [
        "X_test"
      ],
      "execution_count": null,
      "outputs": [
        {
          "output_type": "execute_result",
          "data": {
            "text/plain": [
              "array([[ 346.36],\n",
              "       [ 670.03],\n",
              "       [ 355.44],\n",
              "       [1552.1 ],\n",
              "       [ 475.83],\n",
              "       [ 419.65],\n",
              "       [ 305.21],\n",
              "       [1272.5 ],\n",
              "       [ 315.9 ],\n",
              "       [ 627.06],\n",
              "       [ 588.4 ],\n",
              "       [ 415.87],\n",
              "       [ 410.56],\n",
              "       [1260.95],\n",
              "       [1651.86],\n",
              "       [ 339.27],\n",
              "       [ 327.82],\n",
              "       [ 504.22],\n",
              "       [1329.16],\n",
              "       [ 417.92],\n",
              "       [ 362.18],\n",
              "       [1427.38],\n",
              "       [1767.58],\n",
              "       [1464.63],\n",
              "       [ 313.22],\n",
              "       [ 313.7 ],\n",
              "       [ 448.49],\n",
              "       [1001.64],\n",
              "       [ 596.19],\n",
              "       [ 596.13],\n",
              "       [ 549.32],\n",
              "       [3260.55],\n",
              "       [ 320.2 ],\n",
              "       [1623.14],\n",
              "       [1491.12],\n",
              "       [ 315.26],\n",
              "       [1273.17],\n",
              "       [1411.84],\n",
              "       [2541.58],\n",
              "       [2786.6 ],\n",
              "       [ 315.47],\n",
              "       [1302.23],\n",
              "       [1470.74]])"
            ]
          },
          "metadata": {
            "tags": []
          },
          "execution_count": 15
        }
      ]
    },
    {
      "cell_type": "code",
      "metadata": {
        "id": "XK_dl1WV20xL"
      },
      "source": [
        "lm = linear_model.LinearRegression()\n",
        "model = lm.fit(X_train, y_train)\n",
        "predictions = lm.predict(X_test)"
      ],
      "execution_count": null,
      "outputs": []
    },
    {
      "cell_type": "code",
      "metadata": {
        "id": "MD5acCLc20xL",
        "colab": {
          "base_uri": "https://localhost:8080/"
        },
        "outputId": "8449372e-46e5-4b6d-e07e-a935748b0f73"
      },
      "source": [
        "predictions[0:5]"
      ],
      "execution_count": null,
      "outputs": [
        {
          "output_type": "execute_result",
          "data": {
            "text/plain": [
              "array([[ 369.27209098],\n",
              "       [ 687.35864274],\n",
              "       [ 378.19545703],\n",
              "       [1554.21255169],\n",
              "       [ 496.50867719]])"
            ]
          },
          "metadata": {
            "tags": []
          },
          "execution_count": 17
        }
      ]
    },
    {
      "cell_type": "code",
      "metadata": {
        "id": "El75U69H20xb",
        "colab": {
          "base_uri": "https://localhost:8080/",
          "height": 296
        },
        "outputId": "d520a46f-3384-4594-a07b-7a02513fdc7c"
      },
      "source": [
        "plt.scatter(y_test, predictions)\n",
        "plt.xlabel('True Values')\n",
        "plt.ylabel('Predictions')"
      ],
      "execution_count": null,
      "outputs": [
        {
          "output_type": "execute_result",
          "data": {
            "text/plain": [
              "Text(0, 0.5, 'Predictions')"
            ]
          },
          "metadata": {
            "tags": []
          },
          "execution_count": 18
        },
        {
          "output_type": "display_data",
          "data": {
            "image/png": "[encoded data removed]",
            "text/plain": [
              "<Figure size 432x288 with 1 Axes>"
            ]
          },
          "metadata": {
            "tags": [],
            "needs_background": "light"
          }
        }
      ]
    },
    {
      "cell_type": "code",
      "metadata": {
        "id": "KzNpoNtV20xc",
        "colab": {
          "base_uri": "https://localhost:8080/"
        },
        "outputId": "4709316b-8261-4353-88ee-7ed284ef5384"
      },
      "source": [
        "print(\"Score:\", model.score(X_test, y_test))"
      ],
      "execution_count": null,
      "outputs": [
        {
          "output_type": "stream",
          "text": [
            "Score: 0.9630074660520132\n"
          ],
          "name": "stdout"
        }
      ]
    },
    {
      "cell_type": "code",
      "metadata": {
        "id": "cQwFJj9L20xd",
        "colab": {
          "base_uri": "https://localhost:8080/"
        },
        "outputId": "ecd34076-a61a-479f-f2ed-c7925c39f504"
      },
      "source": [
        "# Perform 6-fold cross validation\n",
        "scores = cross_val_score(model, x, y, cv=6)\n",
        "print('Cross-validated scores:', scores)"
      ],
      "execution_count": null,
      "outputs": [
        {
          "output_type": "stream",
          "text": [
            "Cross-validated scores: [0.75556888 0.51513303 0.88979746 0.64317579 0.39890808 0.76145938]\n"
          ],
          "name": "stdout"
        }
      ]
    },
    {
      "cell_type": "code",
      "metadata": {
        "id": "BDd_S40Z20xe",
        "colab": {
          "base_uri": "https://localhost:8080/",
          "height": 298
        },
        "outputId": "4f662237-e32a-49b6-9a16-06341ffe03bd"
      },
      "source": [
        "# Make cross validated predictions\n",
        "predictions = cross_val_predict(model, x, y, cv=6)\n",
        "plt.scatter(y, predictions)\n",
        "plt.xlabel('True Values')\n",
        "plt.ylabel('Predictions')"
      ],
      "execution_count": null,
      "outputs": [
        {
          "output_type": "execute_result",
          "data": {
            "text/plain": [
              "Text(0, 0.5, 'Predictions')"
            ]
          },
          "metadata": {
            "tags": []
          },
          "execution_count": 21
        },
        {
          "output_type": "display_data",
          "data": {
            "image/png": "[encoded data removed]",
            "text/plain": [
              "<Figure size 432x288 with 1 Axes>"
            ]
          },
          "metadata": {
            "tags": [],
            "needs_background": "light"
          }
        }
      ]
    },
    {
      "cell_type": "code",
      "metadata": {
        "id": "O8TjaTCv20xe",
        "colab": {
          "base_uri": "https://localhost:8080/"
        },
        "outputId": "9ef8836d-e7ac-4f86-d211-e9ce1df9cded"
      },
      "source": [
        "accuracy = metrics.r2_score(y, predictions)\n",
        "print('Cross-Predicted Accuracy:', accuracy)"
      ],
      "execution_count": null,
      "outputs": [
        {
          "output_type": "stream",
          "text": [
            "Cross-Predicted Accuracy: 0.9555607839331259\n"
          ],
          "name": "stdout"
        }
      ]
    },
    {
      "cell_type": "markdown",
      "metadata": {
        "id": "FsgUdtTo20xf"
      },
      "source": [
        "# SUPPORT VECTOR REGRESSION"
      ]
    },
    {
      "cell_type": "code",
      "metadata": {
        "id": "s4PdIkKA20xg"
      },
      "source": [
        "model = SVC(gamma='auto')\n",
        "svmmodel=svm.SVR(kernel='poly', C=1, degree=1)\n",
        "model = svmmodel.fit(X_train, y_train.ravel())\n",
        "predictions = svmmodel.predict(X_test)"
      ],
      "execution_count": null,
      "outputs": []
    },
    {
      "cell_type": "code",
      "metadata": {
        "id": "O1I8g9_N20xg",
        "colab": {
          "base_uri": "https://localhost:8080/"
        },
        "outputId": "62e14bd7-0024-40b7-9d69-c56828e02be3"
      },
      "source": [
        "predictions[0:5]"
      ],
      "execution_count": null,
      "outputs": [
        {
          "output_type": "execute_result",
          "data": {
            "text/plain": [
              "array([723.45376642, 777.68441989, 724.97511327, 925.47455338,\n",
              "       745.14636291])"
            ]
          },
          "metadata": {
            "tags": []
          },
          "execution_count": 24
        }
      ]
    },
    {
      "cell_type": "code",
      "metadata": {
        "id": "gtpHvxzK20xh",
        "colab": {
          "base_uri": "https://localhost:8080/",
          "height": 296
        },
        "outputId": "a1d52bb3-ade0-45d8-e8a1-9bec7ac15f9c"
      },
      "source": [
        "plt.scatter(y_test, predictions)\n",
        "plt.xlabel('True Values')\n",
        "plt.ylabel('Predictions')"
      ],
      "execution_count": null,
      "outputs": [
        {
          "output_type": "execute_result",
          "data": {
            "text/plain": [
              "Text(0, 0.5, 'Predictions')"
            ]
          },
          "metadata": {
            "tags": []
          },
          "execution_count": 25
        },
        {
          "output_type": "display_data",
          "data": {
            "image/png": "[encoded data removed]",
            "text/plain": [
              "<Figure size 432x288 with 1 Axes>"
            ]
          },
          "metadata": {
            "tags": [],
            "needs_background": "light"
          }
        }
      ]
    },
    {
      "cell_type": "code",
      "metadata": {
        "id": "uSqiHkVt20xi",
        "colab": {
          "base_uri": "https://localhost:8080/"
        },
        "outputId": "1b1aa0b5-59ae-4c62-c3db-7220d9bc71d3"
      },
      "source": [
        "print(\"Score:\", model.score(X_test, y_test))"
      ],
      "execution_count": null,
      "outputs": [
        {
          "output_type": "stream",
          "text": [
            "Score: 0.296543353460345\n"
          ],
          "name": "stdout"
        }
      ]
    },
    {
      "cell_type": "code",
      "metadata": {
        "id": "yCW6ikam20xi",
        "colab": {
          "base_uri": "https://localhost:8080/"
        },
        "outputId": "aefd6f66-7e10-4e68-9929-463c5de307f3"
      },
      "source": [
        "# Perform 6-fold cross validation\n",
        "scores = cross_val_score(model, x, y, cv=6)\n",
        "print('Cross-validated scores:', scores)"
      ],
      "execution_count": null,
      "outputs": [
        {
          "output_type": "stream",
          "text": [
            "Cross-validated scores: [-18.20395698 -66.5253815  -42.43766683  -6.2942874   -8.71745244\n",
            "  -7.83899236]\n"
          ],
          "name": "stdout"
        }
      ]
    },
    {
      "cell_type": "code",
      "metadata": {
        "id": "08I0N4wX20xj",
        "colab": {
          "base_uri": "https://localhost:8080/",
          "height": 282
        },
        "outputId": "f349fbca-5ef3-41b2-cd15-1bcbdf63d4d3"
      },
      "source": [
        "# Make cross validated predictions\n",
        "predictions = cross_val_predict(model, x, y, cv=6)\n",
        "plt.scatter(y, predictions)"
      ],
      "execution_count": null,
      "outputs": [
        {
          "output_type": "execute_result",
          "data": {
            "text/plain": [
              "<matplotlib.collections.PathCollection at 0x7f5be874e990>"
            ]
          },
          "metadata": {
            "tags": []
          },
          "execution_count": 28
        },
        {
          "output_type": "display_data",
          "data": {
            "image/png": "[encoded data removed]",
            "text/plain": [
              "<Figure size 432x288 with 1 Axes>"
            ]
          },
          "metadata": {
            "tags": [],
            "needs_background": "light"
          }
        }
      ]
    },
    {
      "cell_type": "code",
      "metadata": {
        "id": "COFXDVHN20xk",
        "colab": {
          "base_uri": "https://localhost:8080/"
        },
        "outputId": "78f7b902-3521-41ac-c050-81355e16cd26"
      },
      "source": [
        "accuracy = metrics.r2_score(y, predictions)\n",
        "print('Cross-Predicted Accuracy:', accuracy)"
      ],
      "execution_count": null,
      "outputs": [
        {
          "output_type": "stream",
          "text": [
            "Cross-Predicted Accuracy: -0.12599326719525128\n"
          ],
          "name": "stdout"
        }
      ]
    },
    {
      "cell_type": "markdown",
      "metadata": {
        "id": "OjFtrdJv20xk"
      },
      "source": [
        "# ARIMA"
      ]
    },
    {
      "cell_type": "code",
      "metadata": {
        "id": "6weEJMOV20xn"
      },
      "source": [
        "import warnings\n",
        "warnings.filterwarnings('ignore')\n",
        "\n",
        "%matplotlib inline\n",
        "\n",
        "colors = [\"windows blue\", \"amber\", \"faded green\", \"dusty purple\"]\n",
        "sns.set(rc={\"figure.figsize\": (20,10), \"axes.titlesize\" : 18, \"axes.labelsize\" : 12, \n",
        "            \"xtick.labelsize\" : 14, \"ytick.labelsize\" : 14 })"
      ],
      "execution_count": null,
      "outputs": []
    },
    {
      "cell_type": "code",
      "metadata": {
        "id": "F59bEugN20xo"
      },
      "source": [
        "dateparse = lambda dates: pd.datetime.strptime(dates, '%b %d, %Y')\n",
        "df = pd.read_csv(r'bitcoin_price.csv', parse_dates=['Date'], index_col='Date', date_parser=dateparse)\n",
        "df = df.iloc[::-1]\n",
        "df = df.loc[:, ~df.columns.str.contains('^Unnamed')]\n"
      ],
      "execution_count": null,
      "outputs": []
    },
    {
      "cell_type": "code",
      "metadata": {
        "id": "MGvC_dLY20xp",
        "colab": {
          "base_uri": "https://localhost:8080/",
          "height": 225
        },
        "outputId": "c4d1b508-c145-4816-d880-1543e6f3a6a7"
      },
      "source": [
        "df.head()"
      ],
      "execution_count": null,
      "outputs": [
        {
          "output_type": "execute_result",
          "data": {
            "text/html": [
              "<div>\n",
              "<style scoped>\n",
              "    .dataframe tbody tr th:only-of-type {\n",
              "        vertical-align: middle;\n",
              "    }\n",
              "\n",
              "    .dataframe tbody tr th {\n",
              "        vertical-align: top;\n",
              "    }\n",
              "\n",
              "    .dataframe thead th {\n",
              "        text-align: right;\n",
              "    }\n",
              "</style>\n",
              "<table border=\"1\" class=\"dataframe\">\n",
              "  <thead>\n",
              "    <tr style=\"text-align: right;\">\n",
              "      <th></th>\n",
              "      <th>Open</th>\n",
              "      <th>High</th>\n",
              "      <th>Low</th>\n",
              "      <th>Close</th>\n",
              "      <th>Volume</th>\n",
              "      <th>Market Cap</th>\n",
              "    </tr>\n",
              "    <tr>\n",
              "      <th>Date</th>\n",
              "      <th></th>\n",
              "      <th></th>\n",
              "      <th></th>\n",
              "      <th></th>\n",
              "      <th></th>\n",
              "      <th></th>\n",
              "    </tr>\n",
              "  </thead>\n",
              "  <tbody>\n",
              "    <tr>\n",
              "      <th>2013-04-28</th>\n",
              "      <td>135.30</td>\n",
              "      <td>135.98</td>\n",
              "      <td>132.10</td>\n",
              "      <td>134.21</td>\n",
              "      <td>-</td>\n",
              "      <td>1,500,520,000</td>\n",
              "    </tr>\n",
              "    <tr>\n",
              "      <th>2013-04-29</th>\n",
              "      <td>134.44</td>\n",
              "      <td>147.49</td>\n",
              "      <td>134.00</td>\n",
              "      <td>144.54</td>\n",
              "      <td>-</td>\n",
              "      <td>1,491,160,000</td>\n",
              "    </tr>\n",
              "    <tr>\n",
              "      <th>2013-04-30</th>\n",
              "      <td>144.00</td>\n",
              "      <td>146.93</td>\n",
              "      <td>134.05</td>\n",
              "      <td>139.00</td>\n",
              "      <td>-</td>\n",
              "      <td>1,597,780,000</td>\n",
              "    </tr>\n",
              "    <tr>\n",
              "      <th>2013-05-01</th>\n",
              "      <td>139.00</td>\n",
              "      <td>139.89</td>\n",
              "      <td>107.72</td>\n",
              "      <td>116.99</td>\n",
              "      <td>-</td>\n",
              "      <td>1,542,820,000</td>\n",
              "    </tr>\n",
              "    <tr>\n",
              "      <th>2013-05-02</th>\n",
              "      <td>116.38</td>\n",
              "      <td>125.60</td>\n",
              "      <td>92.28</td>\n",
              "      <td>105.21</td>\n",
              "      <td>-</td>\n",
              "      <td>1,292,190,000</td>\n",
              "    </tr>\n",
              "  </tbody>\n",
              "</table>\n",
              "</div>"
            ],
            "text/plain": [
              "              Open    High     Low   Close Volume     Market Cap\n",
              "Date                                                            \n",
              "2013-04-28  135.30  135.98  132.10  134.21      -  1,500,520,000\n",
              "2013-04-29  134.44  147.49  134.00  144.54      -  1,491,160,000\n",
              "2013-04-30  144.00  146.93  134.05  139.00      -  1,597,780,000\n",
              "2013-05-01  139.00  139.89  107.72  116.99      -  1,542,820,000\n",
              "2013-05-02  116.38  125.60   92.28  105.21      -  1,292,190,000"
            ]
          },
          "metadata": {
            "tags": []
          },
          "execution_count": 31
        }
      ]
    },
    {
      "cell_type": "code",
      "metadata": {
        "id": "jHqMjMx020xp"
      },
      "source": [
        "btc=df\n",
        "# Drop some columns\n",
        "btc.drop(['Volume', 'Market Cap'],axis=1,inplace=True) "
      ],
      "execution_count": null,
      "outputs": []
    },
    {
      "cell_type": "code",
      "metadata": {
        "id": "o-GK4YW-20xq"
      },
      "source": [
        "# Resampling to monthly frequency\n",
        "btc_month = btc.resample('M').mean()"
      ],
      "execution_count": null,
      "outputs": []
    },
    {
      "cell_type": "code",
      "metadata": {
        "id": "tEN1P8dr20xq",
        "colab": {
          "base_uri": "https://localhost:8080/",
          "height": 314
        },
        "outputId": "542fbc38-6125-4c8d-8c2f-cee8bf513be3"
      },
      "source": [
        "#seasonal_decompose(btc_month.close, freq=12).plot()\n",
        "seasonal_decompose(btc_month.Close, model='additive').plot()\n",
        "print(\"Dickey–Fuller test: p=%f\" % adfuller(btc_month.Close)[1])"
      ],
      "execution_count": null,
      "outputs": [
        {
          "output_type": "stream",
          "text": [
            "Dickey–Fuller test: p=0.998816\n"
          ],
          "name": "stdout"
        },
        {
          "output_type": "display_data",
          "data": {
            "image/png": "[encoded data removed]",
            "text/plain": [
              "<Figure size 432x288 with 4 Axes>"
            ]
          },
          "metadata": {
            "tags": [],
            "needs_background": "light"
          }
        }
      ]
    },
    {
      "cell_type": "markdown",
      "metadata": {
        "id": "jl3uSNVQ20xr"
      },
      "source": [
        "### timeseries is not stationary with 99.88% confidence"
      ]
    },
    {
      "cell_type": "code",
      "metadata": {
        "id": "pFZ57d1g20xr",
        "colab": {
          "base_uri": "https://localhost:8080/"
        },
        "outputId": "19f964c8-8bc8-4df6-c81d-4b3204c805de"
      },
      "source": [
        "btc_month['close_box'], lmbda = stats.boxcox(btc_month.Close)\n",
        "print(\"Dickey–Fuller test: p=%f\" % adfuller(btc_month.close_box)[1])"
      ],
      "execution_count": null,
      "outputs": [
        {
          "output_type": "stream",
          "text": [
            "Dickey–Fuller test: p=0.511886\n"
          ],
          "name": "stdout"
        }
      ]
    },
    {
      "cell_type": "markdown",
      "metadata": {
        "id": "dJOvG67b20xs"
      },
      "source": [
        "### The p-value indicates that series is still not stationary."
      ]
    },
    {
      "cell_type": "code",
      "metadata": {
        "id": "p9Gsni1T20xs"
      },
      "source": [
        "#seasonal differencing involves computing the difference between an observation and the \n",
        "#corresponding observation in the previous year."
      ],
      "execution_count": null,
      "outputs": []
    },
    {
      "cell_type": "code",
      "metadata": {
        "id": "RwLN0xiz20xt",
        "colab": {
          "base_uri": "https://localhost:8080/"
        },
        "outputId": "714874dc-c052-43ab-ed47-453888f7d2a8"
      },
      "source": [
        "# Seasonal differentiation (12 months)\n",
        "btc_month['box_diff_seasonal_12'] = btc_month.close_box - btc_month.close_box.shift(12)\n",
        "print(\"Dickey–Fuller test: p=%f\" % adfuller(btc_month.box_diff_seasonal_12[12:])[1])"
      ],
      "execution_count": null,
      "outputs": [
        {
          "output_type": "stream",
          "text": [
            "Dickey–Fuller test: p=0.665690\n"
          ],
          "name": "stdout"
        }
      ]
    },
    {
      "cell_type": "markdown",
      "metadata": {
        "id": "5lW3w89820xt"
      },
      "source": [
        "### The p-value indicates that series is still not stationary."
      ]
    },
    {
      "cell_type": "code",
      "metadata": {
        "id": "Gr254qe620xu",
        "colab": {
          "base_uri": "https://localhost:8080/"
        },
        "outputId": "f915025b-b49b-4ce1-d67f-b6d203964b2a"
      },
      "source": [
        "# Seasonal differentiation (3 months)\n",
        "btc_month['box_diff_seasonal_3'] = btc_month.close_box - btc_month.close_box.shift(3)\n",
        "print(\"Dickey–Fuller test: p=%f\" % adfuller(btc_month.box_diff_seasonal_3[3:])[1])"
      ],
      "execution_count": null,
      "outputs": [
        {
          "output_type": "stream",
          "text": [
            "Dickey–Fuller test: p=0.017885\n"
          ],
          "name": "stdout"
        }
      ]
    },
    {
      "cell_type": "markdown",
      "metadata": {
        "id": "flrfF-zU20xv"
      },
      "source": [
        "### The p-value indicates that series is stationary as the computed p-value is lower than the significance level alpha = 0.05."
      ]
    },
    {
      "cell_type": "code",
      "metadata": {
        "id": "BOjU1_IX20xv"
      },
      "source": [
        "#Sometimes it may be necessary to difference the data a second time to obtain a stationary time series, \n",
        "#which is referred to as second order differencing."
      ],
      "execution_count": null,
      "outputs": []
    },
    {
      "cell_type": "code",
      "metadata": {
        "id": "c7a8MeMv20xw",
        "colab": {
          "base_uri": "https://localhost:8080/",
          "height": 317
        },
        "outputId": "43e962c6-09bc-40a0-e229-7bbb368322d8"
      },
      "source": [
        "# Regular differentiation\n",
        "btc_month['box_diff2'] = btc_month.box_diff_seasonal_12 - btc_month.box_diff_seasonal_12.shift(1)\n",
        "\n",
        "# STL-decomposition\n",
        "seasonal_decompose(btc_month.box_diff2[13:]).plot()   \n",
        "print(\"Dickey–Fuller test: p=%f\" % adfuller(btc_month.box_diff2[13:])[1])"
      ],
      "execution_count": null,
      "outputs": [
        {
          "output_type": "stream",
          "text": [
            "Dickey–Fuller test: p=0.002307\n"
          ],
          "name": "stdout"
        },
        {
          "output_type": "display_data",
          "data": {
            "image/png": "[encoded data removed]",
            "text/plain": [
              "<Figure size 432x288 with 4 Axes>"
            ]
          },
          "metadata": {
            "tags": [],
            "needs_background": "light"
          }
        }
      ]
    },
    {
      "cell_type": "markdown",
      "metadata": {
        "id": "-mVuPO0520xx"
      },
      "source": [
        "### The p-value indicates that series is stationary as the computed p-value is lower than the significance level alpha = 0.05."
      ]
    },
    {
      "cell_type": "code",
      "metadata": {
        "id": "fmAxdmaX20xx"
      },
      "source": [
        "#Autocorrelation is the correlation of a time series with the same time series lagged. \n",
        "#It summarizes the strength of a relationship with an observation in a time series with observations at prior time steps.\n",
        "\n",
        "#We create autocorrelation factor (ACF) and partial autocorrelation factor (PACF) plots to identify patterns \n",
        "#in the above data which is stationary on both mean and variance. The idea is to identify presence of AR and MA \n",
        "#components in the residuals."
      ],
      "execution_count": null,
      "outputs": []
    },
    {
      "cell_type": "code",
      "metadata": {
        "id": "A1clU6jV20xy",
        "colab": {
          "base_uri": "https://localhost:8080/",
          "height": 297
        },
        "outputId": "0651e729-2d7a-44a7-ea6a-a05e34d25c20"
      },
      "source": [
        "#autocorrelation_plot(btc_month.close)\n",
        "plot_acf(btc_month.Close[13:].values.squeeze(), lags=12)\n",
        "plt.tight_layout()"
      ],
      "execution_count": null,
      "outputs": [
        {
          "output_type": "display_data",
          "data": {
            "image/png": "[encoded data removed]",
            "text/plain": [
              "<Figure size 432x288 with 1 Axes>"
            ]
          },
          "metadata": {
            "tags": [],
            "needs_background": "light"
          }
        }
      ]
    },
    {
      "cell_type": "code",
      "metadata": {
        "id": "-FrBeIgy20xz",
        "colab": {
          "base_uri": "https://localhost:8080/",
          "height": 297
        },
        "outputId": "bdd4f46a-56e3-4a3c-810f-e5e60fea228d"
      },
      "source": [
        "# Initial approximation of parameters using Autocorrelation and Partial Autocorrelation Plots\n",
        "ax = plt.subplot(211)\n",
        "# Plot the autocorrelation function\n",
        "#sm.graphics.tsa.plot_acf(btc_month.box_diff2[13:].values.squeeze(), lags=48, ax=ax)\n",
        "plot_acf(btc_month.box_diff2[13:].values.squeeze(), lags=12, ax=ax)\n",
        "ax = plt.subplot(212)\n",
        "#sm.graphics.tsa.plot_pacf(btc_month.box_diff2[13:].values.squeeze(), lags=48, ax=ax)\n",
        "plot_pacf(btc_month.box_diff2[13:].values.squeeze(), lags=12, ax=ax)\n",
        "plt.tight_layout()"
      ],
      "execution_count": null,
      "outputs": [
        {
          "output_type": "display_data",
          "data": {
            "image/png": "[encoded data removed]",
            "text/plain": [
              "<Figure size 432x288 with 2 Axes>"
            ]
          },
          "metadata": {
            "tags": [],
            "needs_background": "light"
          }
        }
      ]
    },
    {
      "cell_type": "markdown",
      "metadata": {
        "id": "4FAsjQJz20x0"
      },
      "source": [
        "### Monthly Forecasting \n",
        "#### ARIMA Model "
      ]
    },
    {
      "cell_type": "code",
      "metadata": {
        "id": "_Oq3enDQ20x0"
      },
      "source": [
        "#p - the number of lag observations to include in the model, or lag order. (AR)\n",
        "#d - the number of times that the raw observations are differenced, or the degree of differencing. (I)\n",
        "#q - the size of the moving average window, also called the order of moving average.(MA)\n",
        "\n",
        "#A linear regression model is constructed including the specified number and type of terms, \n",
        "#and the data is prepared by a degree of differencing in order to make it stationary, \n",
        "#i.e. to remove trend and seasonal structures that negatively affect the regression model. \n",
        "#A value of 0 for a parameter indicates to not use that element of the model."
      ],
      "execution_count": null,
      "outputs": []
    },
    {
      "cell_type": "markdown",
      "metadata": {
        "id": "HbObmQz620x1"
      },
      "source": [
        "#### Parameter selection using AIC (Akaike Information Criterion) value "
      ]
    },
    {
      "cell_type": "code",
      "metadata": {
        "id": "D8mNmtmP20x1"
      },
      "source": [
        "#A model that fits the data very well while using lots of features will be assigned a larger AIC \n",
        "#score than a model that uses fewer features to achieve the same goodness-of-fit. \n",
        "#Therefore, we are interested in finding the model that yields the lowest AIC value."
      ],
      "execution_count": null,
      "outputs": []
    },
    {
      "cell_type": "code",
      "metadata": {
        "id": "pGn7fA6S20x1"
      },
      "source": [
        "# Initial approximation of parameters\n",
        "qs = range(0, 3)\n",
        "ps = range(0, 3)\n",
        "d=1\n",
        "parameters = product(ps, qs)\n",
        "parameters_list = list(parameters)\n",
        "len(parameters_list)\n",
        "\n",
        "# Model Selection\n",
        "results = []\n",
        "best_aic = float(\"inf\")\n",
        "warnings.filterwarnings('ignore')\n",
        "for param in parameters_list:\n",
        "    try:\n",
        "        model = SARIMAX(btc_month.close_box, order=(param[0], d, param[1])).fit(disp=-1)\n",
        "    except ValueError:\n",
        "        print('bad parameter combination:', param)\n",
        "        continue\n",
        "    aic = model.aic\n",
        "    if aic < best_aic:\n",
        "        best_model = model\n",
        "        best_aic = aic\n",
        "        best_param = param\n",
        "    results.append([param, model.aic])"
      ],
      "execution_count": null,
      "outputs": []
    },
    {
      "cell_type": "code",
      "metadata": {
        "id": "eyfDfzy520x2",
        "colab": {
          "base_uri": "https://localhost:8080/"
        },
        "outputId": "3c9b9684-6f56-4297-aff0-839886f0aba8"
      },
      "source": [
        "# Best Models\n",
        "result_table = pd.DataFrame(results)\n",
        "result_table.columns = ['parameters', 'aic']\n",
        "print(result_table.sort_values(by = 'aic', ascending=True).head())"
      ],
      "execution_count": null,
      "outputs": [
        {
          "output_type": "stream",
          "text": [
            "  parameters         aic\n",
            "3     (1, 0) -221.089072\n",
            "1     (0, 1) -220.707887\n",
            "4     (1, 1) -219.129637\n",
            "6     (2, 0) -219.119956\n",
            "2     (0, 2) -218.906347\n"
          ],
          "name": "stdout"
        }
      ]
    },
    {
      "cell_type": "code",
      "metadata": {
        "id": "C7XdcyM320x3",
        "colab": {
          "base_uri": "https://localhost:8080/"
        },
        "outputId": "d0aa15a4-c690-45fb-9972-4b99156b56e3"
      },
      "source": [
        "print(best_model.summary())"
      ],
      "execution_count": null,
      "outputs": [
        {
          "output_type": "stream",
          "text": [
            "                           Statespace Model Results                           \n",
            "==============================================================================\n",
            "Dep. Variable:              close_box   No. Observations:                   59\n",
            "Model:               SARIMAX(1, 1, 0)   Log Likelihood                 112.545\n",
            "Date:                Sat, 17 Apr 2021   AIC                           -221.089\n",
            "Time:                        17:26:02   BIC                           -216.968\n",
            "Sample:                    04-30-2013   HQIC                          -219.484\n",
            "                         - 02-28-2018                                         \n",
            "Covariance Type:                  opg                                         \n",
            "==============================================================================\n",
            "                 coef    std err          z      P>|z|      [0.025      0.975]\n",
            "------------------------------------------------------------------------------\n",
            "ar.L1          0.3738      0.151      2.471      0.013       0.077       0.670\n",
            "sigma2         0.0012      0.000     11.241      0.000       0.001       0.001\n",
            "===================================================================================\n",
            "Ljung-Box (Q):                       19.66   Jarque-Bera (JB):               554.04\n",
            "Prob(Q):                              1.00   Prob(JB):                         0.00\n",
            "Heteroskedasticity (H):               0.13   Skew:                             2.90\n",
            "Prob(H) (two-sided):                  0.00   Kurtosis:                        16.99\n",
            "===================================================================================\n",
            "\n",
            "Warnings:\n",
            "[1] Covariance matrix calculated using the outer product of gradients (complex-step).\n"
          ],
          "name": "stdout"
        }
      ]
    },
    {
      "cell_type": "markdown",
      "metadata": {
        "id": "k01L1Own20x4"
      },
      "source": [
        "### Analysis of results "
      ]
    },
    {
      "cell_type": "code",
      "metadata": {
        "id": "wwA-j3Ei20x4"
      },
      "source": [
        "#The coef column shows the weight (i.e. importance) of each feature and how each one impacts the time series. \n",
        "#The P>|z| column informs us of the significance of each feature weight. \n",
        "#Here, each weight has a p-value lower or close to 0.05, so it is reasonable to retain all of them in our model."
      ],
      "execution_count": null,
      "outputs": []
    },
    {
      "cell_type": "code",
      "metadata": {
        "id": "80UcOrJE20x5",
        "colab": {
          "base_uri": "https://localhost:8080/"
        },
        "outputId": "4b22f7e9-00dd-4864-fa53-1d783eadef7e"
      },
      "source": [
        "print(\"Dickey–Fuller test:: p=%f\" % adfuller(best_model.resid[13:])[1])"
      ],
      "execution_count": null,
      "outputs": [
        {
          "output_type": "stream",
          "text": [
            "Dickey–Fuller test:: p=0.005727\n"
          ],
          "name": "stdout"
        }
      ]
    },
    {
      "cell_type": "code",
      "metadata": {
        "id": "O2Y69diT20x5",
        "colab": {
          "base_uri": "https://localhost:8080/",
          "height": 854
        },
        "outputId": "3ab958c5-0e64-4e8e-95b3-c747310eb19e"
      },
      "source": [
        "best_model.plot_diagnostics(figsize=(20, 15))\n",
        "plt.show()"
      ],
      "execution_count": null,
      "outputs": [
        {
          "output_type": "display_data",
          "data": {
            "image/png": "[encoded data removed]",
            "text/plain": [
              "<Figure size 1440x1080 with 4 Axes>"
            ]
          },
          "metadata": {
            "tags": [],
            "needs_background": "light"
          }
        }
      ]
    },
    {
      "cell_type": "code",
      "metadata": {
        "id": "5UNazPjJ20x6"
      },
      "source": [
        "#In the histogram (top right), the KDE line should follow the N(0,1) \n",
        "#line (normal distribution with mean 0, standard deviation 1) closely. \n",
        "#This is an indication whether the residuals are normally distributed or not.\n",
        "\n",
        "#In the Q-Q-plot the ordered distribution of residuals (blue dots) should follow the linear trend of the samples \n",
        "#taken from a standard normal distribution with N(0, 1). \n",
        "#Again, this is an indication whether the residuals are normally distributed.\n",
        "\n",
        "#The standardized residual plot doesn't display any obvious seasonality. \n",
        "#This is confirmed by the autocorrelation plot, which shows that the time series residuals \n",
        "#have low correlation with lagged versions of itself."
      ],
      "execution_count": null,
      "outputs": []
    },
    {
      "cell_type": "markdown",
      "metadata": {
        "id": "GYiXHNHz20x6"
      },
      "source": [
        "### Prediction"
      ]
    },
    {
      "cell_type": "code",
      "metadata": {
        "id": "lp1ZoU1y20x7"
      },
      "source": [
        "# Inverse Box-Cox Transformation Function\n",
        "def invboxcox(y,lmbda):\n",
        "   if lmbda == 0:\n",
        "      return(np.exp(y))\n",
        "   else:\n",
        "      return(np.exp(np.log(lmbda*y+1)/lmbda))"
      ],
      "execution_count": null,
      "outputs": []
    },
    {
      "cell_type": "code",
      "metadata": {
        "id": "00SbZ2M520x7",
        "colab": {
          "base_uri": "https://localhost:8080/",
          "height": 288
        },
        "outputId": "7665024e-c504-4fbf-d7cd-ec731e4f8cc9"
      },
      "source": [
        "btc_month_pred = btc_month[['Close']]\n",
        "date_list = [datetime(2018, 6, 30), datetime(2018, 7, 31), datetime(2018, 8, 31)]\n",
        "future = pd.DataFrame(index=date_list, columns= btc_month.columns)\n",
        "btc_month_pred = pd.concat([btc_month_pred, future])\n",
        "\n",
        "#btc_month_pred['forecast'] = invboxcox(best_model.predict(start=0, end=75), lmbda)\n",
        "btc_month_pred['forecast'] = invboxcox(best_model.predict(start=datetime(2014, 1, 31), end=datetime(2018, 8, 31)), lmbda)\n",
        "\n",
        "btc_month_pred.Close.plot(linewidth=3)\n",
        "btc_month_pred.forecast.plot(color='r', ls='--', label='Predicted Close', linewidth=3)\n",
        "plt.legend()\n",
        "plt.grid()\n",
        "plt.title('Bitcoin monthly forecast')\n",
        "plt.ylabel('USD')"
      ],
      "execution_count": null,
      "outputs": [
        {
          "output_type": "execute_result",
          "data": {
            "text/plain": [
              "Text(0, 0.5, 'USD')"
            ]
          },
          "metadata": {
            "tags": []
          },
          "execution_count": 54
        },
        {
          "output_type": "display_data",
          "data": {
            "image/png": "[encoded data removed]",
            "text/plain": [
              "<Figure size 432x288 with 1 Axes>"
            ]
          },
          "metadata": {
            "tags": [],
            "needs_background": "light"
          }
        }
      ]
    },
    {
      "cell_type": "markdown",
      "metadata": {
        "id": "n2WDxzhj20x8"
      },
      "source": [
        "### SARIMAX Model\n",
        "### Seasonal AutoRegressive Integrated Moving Average with eXogenous regressors model"
      ]
    },
    {
      "cell_type": "markdown",
      "metadata": {
        "id": "Z3nvQgBi20x8"
      },
      "source": [
        "#### Parameter Selection"
      ]
    },
    {
      "cell_type": "code",
      "metadata": {
        "id": "chVvTe3B20x8"
      },
      "source": [
        "Qs = range(0, 2)\n",
        "qs = range(0, 3)\n",
        "Ps = range(0, 3)\n",
        "ps = range(0, 3)\n",
        "D=1\n",
        "d=1\n",
        "parameters = product(ps, qs, Ps, Qs)\n",
        "parameters_list = list(parameters)\n",
        "len(parameters_list)\n",
        "\n",
        "# Model Selection\n",
        "results = []\n",
        "best_aic = float(\"inf\")\n",
        "warnings.filterwarnings('ignore')\n",
        "for param in parameters_list:\n",
        "    try:\n",
        "#        model = SARIMAX(btc_month.close_box, order=(param[0], d, param[1]), seasonal_order=(param[2], D, param[3], 12)).fit(disp=-1)\n",
        "        model = SARIMAX(btc_month.close_box, order=(param[0], d, param[1]), seasonal_order=(param[2], D, param[3], 4)).fit(disp=-1)\n",
        "    except ValueError:\n",
        "        print('bad parameter combination:', param)\n",
        "        continue\n",
        "    aic = model.aic\n",
        "    if aic < best_aic:\n",
        "        best_model = model\n",
        "        best_aic = aic\n",
        "        best_param = param\n",
        "    results.append([param, model.aic])"
      ],
      "execution_count": null,
      "outputs": []
    },
    {
      "cell_type": "code",
      "metadata": {
        "id": "6eQoPT8220yR",
        "colab": {
          "base_uri": "https://localhost:8080/"
        },
        "outputId": "22a326a8-f796-4026-ef10-08c65bfdc522"
      },
      "source": [
        "# Best Models\n",
        "result_table = pd.DataFrame(results)\n",
        "result_table.columns = ['parameters', 'aic']\n",
        "print(result_table.sort_values(by = 'aic', ascending=True).head())\n",
        "print(best_model.summary())"
      ],
      "execution_count": null,
      "outputs": [
        {
          "output_type": "stream",
          "text": [
            "      parameters         aic\n",
            "21  (1, 0, 1, 1) -194.017768\n",
            "19  (1, 0, 0, 1) -193.638037\n",
            "49  (2, 2, 0, 1) -193.286878\n",
            "7   (0, 1, 0, 1) -193.174720\n",
            "9   (0, 1, 1, 1) -193.144126\n",
            "                                 Statespace Model Results                                \n",
            "=========================================================================================\n",
            "Dep. Variable:                         close_box   No. Observations:                   59\n",
            "Model:             SARIMAX(1, 1, 0)x(1, 1, 1, 4)   Log Likelihood                 101.009\n",
            "Date:                           Sat, 17 Apr 2021   AIC                           -194.018\n",
            "Time:                                   17:26:35   BIC                           -186.062\n",
            "Sample:                               04-30-2013   HQIC                          -190.949\n",
            "                                    - 02-28-2018                                         \n",
            "Covariance Type:                             opg                                         \n",
            "==============================================================================\n",
            "                 coef    std err          z      P>|z|      [0.025      0.975]\n",
            "------------------------------------------------------------------------------\n",
            "ar.L1          0.3756      0.128      2.924      0.003       0.124       0.627\n",
            "ar.S.L4       -0.3106      0.086     -3.614      0.000      -0.479      -0.142\n",
            "ma.S.L4       -0.7740      0.217     -3.567      0.000      -1.199      -0.349\n",
            "sigma2         0.0012      0.000      4.786      0.000       0.001       0.002\n",
            "===================================================================================\n",
            "Ljung-Box (Q):                       29.02   Jarque-Bera (JB):                73.85\n",
            "Prob(Q):                              0.90   Prob(JB):                         0.00\n",
            "Heteroskedasticity (H):               0.20   Skew:                             1.08\n",
            "Prob(H) (two-sided):                  0.00   Kurtosis:                         8.30\n",
            "===================================================================================\n",
            "\n",
            "Warnings:\n",
            "[1] Covariance matrix calculated using the outer product of gradients (complex-step).\n"
          ],
          "name": "stdout"
        }
      ]
    },
    {
      "cell_type": "markdown",
      "metadata": {
        "id": "4u_1m5ae20yS"
      },
      "source": [
        "### Analysis of results"
      ]
    },
    {
      "cell_type": "code",
      "metadata": {
        "id": "KYJNLFW020yS",
        "colab": {
          "base_uri": "https://localhost:8080/"
        },
        "outputId": "4d5fe70a-a48e-471e-a4c9-40ee998d5054"
      },
      "source": [
        "print(\"Dickey–Fuller test:: p=%f\" % adfuller(best_model.resid[13:])[1])"
      ],
      "execution_count": null,
      "outputs": [
        {
          "output_type": "stream",
          "text": [
            "Dickey–Fuller test:: p=0.073220\n"
          ],
          "name": "stdout"
        }
      ]
    },
    {
      "cell_type": "code",
      "metadata": {
        "id": "y7fqydZZ20yV",
        "colab": {
          "base_uri": "https://localhost:8080/",
          "height": 854
        },
        "outputId": "298619da-d3da-4d76-92d3-40675e9a1322"
      },
      "source": [
        "best_model.plot_diagnostics(figsize=(20, 15))\n",
        "plt.show()"
      ],
      "execution_count": null,
      "outputs": [
        {
          "output_type": "display_data",
          "data": {
            "image/png": "[encoded data removed]",
            "text/plain": [
              "<Figure size 1440x1080 with 4 Axes>"
            ]
          },
          "metadata": {
            "tags": [],
            "needs_background": "light"
          }
        }
      ]
    },
    {
      "cell_type": "code",
      "metadata": {
        "id": "wPmaEIt620yW",
        "colab": {
          "base_uri": "https://localhost:8080/",
          "height": 314
        },
        "outputId": "78a26f43-5931-459a-8219-16695683cb85"
      },
      "source": [
        "# STL-decomposition\n",
        "plt.subplot(211)\n",
        "best_model.resid[13:].plot()\n",
        "plt.ylabel(u'Residuals')\n",
        "ax = plt.subplot(212)\n",
        "#sm.graphics.tsa.plot_acf(best_model.resid[13:].values.squeeze(), lags=48, ax=ax)\n",
        "plot_acf(best_model.resid[13:].values.squeeze(), lags=12, ax=ax)\n",
        "\n",
        "print(\"Dickey–Fuller test:: p=%f\" % adfuller(best_model.resid[13:])[1])\n",
        "\n",
        "plt.tight_layout()"
      ],
      "execution_count": null,
      "outputs": [
        {
          "output_type": "stream",
          "text": [
            "Dickey–Fuller test:: p=0.073220\n"
          ],
          "name": "stdout"
        },
        {
          "output_type": "display_data",
          "data": {
            "image/png": "[encoded data removed]",
            "text/plain": [
              "<Figure size 432x288 with 2 Axes>"
            ]
          },
          "metadata": {
            "tags": [],
            "needs_background": "light"
          }
        }
      ]
    },
    {
      "cell_type": "markdown",
      "metadata": {
        "id": "utwnW1e120yX"
      },
      "source": [
        "### Prediction"
      ]
    },
    {
      "cell_type": "code",
      "metadata": {
        "id": "DUi8qYPG20yX",
        "colab": {
          "base_uri": "https://localhost:8080/",
          "height": 271
        },
        "outputId": "d7fa70c0-de55-4eea-95af-96e622419dfd"
      },
      "source": [
        "# Prediction\n",
        "btc_month_sarima = btc_month[['Close']]\n",
        "date_list = [datetime(2018, 6, 30), datetime(2018, 7, 31), datetime(2018, 8, 31)]\n",
        "future = pd.DataFrame(index=date_list, columns= btc_month.columns)\n",
        "btc_month_sarima = pd.concat([btc_month_sarima, future])\n",
        "\n",
        "btc_month_sarima['forecast'] = invboxcox(best_model.predict(start=12, end=75), lmbda)\n",
        "\n",
        "btc_month_sarima.Close.plot(linewidth=3)\n",
        "btc_month_sarima.forecast.plot(color='r', ls='--', label='forecast', linewidth=3)\n",
        "plt.legend()\n",
        "plt.title('Bitcoin Monthly Close Forecast')\n",
        "plt.ylabel('USD')\n",
        "plt.grid()\n",
        "plt.savefig('bitcoin_monthly_forecast.png')"
      ],
      "execution_count": null,
      "outputs": [
        {
          "output_type": "display_data",
          "data": {
            "image/png": "[encoded data removed]",
            "text/plain": [
              "<Figure size 432x288 with 1 Axes>"
            ]
          },
          "metadata": {
            "tags": [],
            "needs_background": "light"
          }
        }
      ]
    },
    {
      "cell_type": "markdown",
      "metadata": {
        "id": "NtRW-HfW20yY"
      },
      "source": [
        "### Validation"
      ]
    },
    {
      "cell_type": "code",
      "metadata": {
        "id": "FjIBvx2020yY",
        "colab": {
          "base_uri": "https://localhost:8080/"
        },
        "outputId": "002909c6-b818-45db-d572-3ff75c47f1db"
      },
      "source": [
        "btc_month_predict = btc_month['2015-01-01':'2018-01-01']\n",
        "\n",
        "# Get a naive forecast\n",
        "close_history = [x for x in btc_month_predict['Close']]\n",
        "predictions = list()\n",
        "for i in range(len(btc_month_predict)):\n",
        "    # predict\n",
        "    predictions.append(close_history[-1])\n",
        "    # update observation\n",
        "    close_history.append(btc_month_predict.iloc[i]['Close'])\n",
        "    \n",
        "# Calculate RMSE\n",
        "rmse = sqrt(mean_squared_error(btc_month_predict['Close'], predictions))\n",
        "print('RMSE: %.2f' % rmse)"
      ],
      "execution_count": null,
      "outputs": [
        {
          "output_type": "stream",
          "text": [
            "RMSE: 2853.23\n"
          ],
          "name": "stdout"
        }
      ]
    },
    {
      "cell_type": "code",
      "metadata": {
        "id": "n-C99k1L20yZ",
        "colab": {
          "base_uri": "https://localhost:8080/",
          "height": 281
        },
        "outputId": "f4c68f42-b309-4c01-cfca-0075d5441d1b"
      },
      "source": [
        "# Plot predictions vs actual\n",
        "btc_month_predict['naive_forecast'] = predictions\n",
        "plt.plot(btc_month_predict['Close'],  linewidth=3)\n",
        "plt.plot(btc_month_predict['naive_forecast'], color='r', ls='--', label='forecast', linewidth=3)\n",
        "plt.title('Naive forecast')\n",
        "plt.ylabel('USD')\n",
        "plt.grid()"
      ],
      "execution_count": null,
      "outputs": [
        {
          "output_type": "display_data",
          "data": {
            "image/png": "[encoded data removed]",
            "text/plain": [
              "<Figure size 432x288 with 1 Axes>"
            ]
          },
          "metadata": {
            "tags": [],
            "needs_background": "light"
          }
        }
      ]
    },
    {
      "cell_type": "code",
      "metadata": {
        "id": "-Jpq3vMR20ya",
        "colab": {
          "base_uri": "https://localhost:8080/"
        },
        "outputId": "5a260ec9-3f1e-4dd4-8f1e-d48791b03186"
      },
      "source": [
        "y_forecasted = btc_month_sarima.forecast\n",
        "y_truth = btc_month_sarima['2015-01-01':'2020-01-01'].Close\n",
        "\n",
        "# Compute the root mean square error\n",
        "rmse = np.sqrt(((y_forecasted - y_truth) ** 2).mean())\n",
        "print('Mean Squared Error: {}'.format(round(rmse, 2)))"
      ],
      "execution_count": null,
      "outputs": [
        {
          "output_type": "stream",
          "text": [
            "Mean Squared Error: 2710.09\n"
          ],
          "name": "stdout"
        }
      ]
    },
    {
      "cell_type": "code",
      "metadata": {
        "id": "_m3U7a9u20ya",
        "colab": {
          "base_uri": "https://localhost:8080/",
          "height": 298
        },
        "outputId": "a9cbf6ff-7a23-4170-c014-7007bec16652"
      },
      "source": [
        "t1 = pd.to_datetime('2017-06-30')\n",
        "t2 = pd.to_datetime('2018-01-31')\n",
        "btc_month_dynamic = best_model.get_prediction(start=t1, end=t2, dynamic=True, full_results=True)\n",
        "btc_month_sarima['dynamic_forecast'] = invboxcox(btc_month_dynamic.predicted_mean, lmbda)\n",
        "\n",
        "# Taking 80% confidence interval because the 95% blows out too high to visualise\n",
        "pred_dynamic_ci = btc_month_dynamic.conf_int(alpha=0.2)\n",
        "pred_dynamic_ci['lower close_box'] = invboxcox(pred_dynamic_ci['lower close_box'], lmbda)\n",
        "pred_dynamic_ci['upper close_box'] = invboxcox(pred_dynamic_ci['upper close_box'], lmbda)\n",
        "\n",
        "# Plot\n",
        "plt.ylim((0,20000))\n",
        "\n",
        "btc_month_sarima.Close['2016':'2018-01'].plot(label='close', linewidth=3)\n",
        "btc_month_sarima.dynamic_forecast.plot(color='r', ls='--', label='dynamic forecast', linewidth=3)\n",
        "\n",
        "plt.fill_between(pred_dynamic_ci.index,\n",
        "                pred_dynamic_ci.iloc[:, 0],\n",
        "                pred_dynamic_ci.iloc[:, 1], color='k', alpha=.25)\n",
        "plt.fill_betweenx(plt.ylim(), t1, t2, alpha=.1, zorder=-1)\n",
        "\n",
        "plt.legend()\n",
        "plt.title('Bitcoin Dynamic Monthly Forecast (backtesting)')\n",
        "plt.grid()\n",
        "plt.ylabel('USD')"
      ],
      "execution_count": null,
      "outputs": [
        {
          "output_type": "execute_result",
          "data": {
            "text/plain": [
              "Text(0, 0.5, 'USD')"
            ]
          },
          "metadata": {
            "tags": []
          },
          "execution_count": 64
        },
        {
          "output_type": "display_data",
          "data": {
            "image/png": "[encoded data removed]",
            "text/plain": [
              "<Figure size 432x288 with 1 Axes>"
            ]
          },
          "metadata": {
            "tags": [],
            "needs_background": "light"
          }
        }
      ]
    },
    {
      "cell_type": "code",
      "metadata": {
        "id": "Co4e-ZDG20yb",
        "colab": {
          "base_uri": "https://localhost:8080/",
          "height": 298
        },
        "outputId": "eebcd5cc-d72b-4d1f-d1f0-21d78032ffd8"
      },
      "source": [
        "# Get the dynamic forecast between dates t1 and t2\n",
        "t1 = pd.to_datetime('2017-01-31')\n",
        "t2 = pd.to_datetime('2017-07-31')\n",
        "btc_month_dynamic = best_model.get_prediction(start=t1, end=t2, dynamic=True, full_results=True)\n",
        "btc_month_sarima['dynamic_forecast'] = invboxcox(btc_month_dynamic.predicted_mean, lmbda)\n",
        "\n",
        "# Taking 80% confidence interval because the 95% blows out too high to visualise\n",
        "pred_dynamic_ci = btc_month_dynamic.conf_int(alpha=0.2)\n",
        "pred_dynamic_ci['lower close_box'] = invboxcox(pred_dynamic_ci['lower close_box'], lmbda)\n",
        "pred_dynamic_ci['upper close_box'] = invboxcox(pred_dynamic_ci['upper close_box'], lmbda)\n",
        "\n",
        "# Plot\n",
        "plt.ylim((0,20000))\n",
        "\n",
        "btc_month_sarima.Close['2016':'2018-01'].plot(label='close', linewidth=3)\n",
        "btc_month_sarima.dynamic_forecast.plot(color='r', ls='--', label='dynamic forecast', linewidth=3)\n",
        "\n",
        "plt.fill_between(pred_dynamic_ci.index,\n",
        "                pred_dynamic_ci.iloc[:, 0],\n",
        "                pred_dynamic_ci.iloc[:, 1], color='k', alpha=.25)\n",
        "plt.fill_betweenx(plt.ylim(), t1, t2, alpha=.1, zorder=-1)\n",
        "\n",
        "plt.legend()\n",
        "plt.title('Bitcoin Dynamic Monthly Forecast (backtesting)')\n",
        "plt.grid()\n",
        "plt.ylabel('USD')"
      ],
      "execution_count": null,
      "outputs": [
        {
          "output_type": "execute_result",
          "data": {
            "text/plain": [
              "Text(0, 0.5, 'USD')"
            ]
          },
          "metadata": {
            "tags": []
          },
          "execution_count": 65
        },
        {
          "output_type": "display_data",
          "data": {
            "image/png": "[encoded data removed]",
            "text/plain": [
              "<Figure size 432x288 with 1 Axes>"
            ]
          },
          "metadata": {
            "tags": [],
            "needs_background": "light"
          }
        }
      ]
    },
    {
      "cell_type": "markdown",
      "metadata": {
        "id": "Hx3nUp4M20yc"
      },
      "source": [
        "# LSTM"
      ]
    },
    {
      "cell_type": "code",
      "metadata": {
        "id": "bchDeTv320ye",
        "outputId": "5c01eb73-6d86-4881-aa94-b6c52e39ccbf"
      },
      "source": [
        "# Import the dataset and encode the date\n",
        "#dateparse = lambda dates: pd.datetime.strptime(dates, '%b %d, %Y')\n",
        "for col in df.columns: \n",
        "    print(col) "
      ],
      "execution_count": null,
      "outputs": [
        {
          "output_type": "stream",
          "text": [
            "Open\n",
            "High\n",
            "Low\n",
            "Close\n"
          ],
          "name": "stdout"
        }
      ]
    },
    {
      "cell_type": "code",
      "metadata": {
        "id": "OYbQ5hx520yf",
        "outputId": "e5430514-1a18-4993-ceeb-14ac5e453bd0"
      },
      "source": [
        "for col in df.columns: \n",
        "    print(col) "
      ],
      "execution_count": null,
      "outputs": [
        {
          "output_type": "stream",
          "text": [
            "Open\n",
            "High\n",
            "Low\n",
            "Close\n"
          ],
          "name": "stdout"
        }
      ]
    },
    {
      "cell_type": "code",
      "metadata": {
        "id": "S5KVAVTl20yg",
        "outputId": "baaff4ce-03d5-401a-82c4-c008e856a317"
      },
      "source": [
        "df"
      ],
      "execution_count": null,
      "outputs": [
        {
          "output_type": "execute_result",
          "data": {
            "text/html": [
              "<div>\n",
              "<style scoped>\n",
              "    .dataframe tbody tr th:only-of-type {\n",
              "        vertical-align: middle;\n",
              "    }\n",
              "\n",
              "    .dataframe tbody tr th {\n",
              "        vertical-align: top;\n",
              "    }\n",
              "\n",
              "    .dataframe thead th {\n",
              "        text-align: right;\n",
              "    }\n",
              "</style>\n",
              "<table border=\"1\" class=\"dataframe\">\n",
              "  <thead>\n",
              "    <tr style=\"text-align: right;\">\n",
              "      <th></th>\n",
              "      <th>Open</th>\n",
              "      <th>High</th>\n",
              "      <th>Low</th>\n",
              "      <th>Close</th>\n",
              "    </tr>\n",
              "    <tr>\n",
              "      <th>Date</th>\n",
              "      <th></th>\n",
              "      <th></th>\n",
              "      <th></th>\n",
              "      <th></th>\n",
              "    </tr>\n",
              "  </thead>\n",
              "  <tbody>\n",
              "    <tr>\n",
              "      <th>2013-04-28</th>\n",
              "      <td>135.30</td>\n",
              "      <td>135.98</td>\n",
              "      <td>132.10</td>\n",
              "      <td>134.21</td>\n",
              "    </tr>\n",
              "    <tr>\n",
              "      <th>2013-04-29</th>\n",
              "      <td>134.44</td>\n",
              "      <td>147.49</td>\n",
              "      <td>134.00</td>\n",
              "      <td>144.54</td>\n",
              "    </tr>\n",
              "    <tr>\n",
              "      <th>2013-04-30</th>\n",
              "      <td>144.00</td>\n",
              "      <td>146.93</td>\n",
              "      <td>134.05</td>\n",
              "      <td>139.00</td>\n",
              "    </tr>\n",
              "    <tr>\n",
              "      <th>2013-05-01</th>\n",
              "      <td>139.00</td>\n",
              "      <td>139.89</td>\n",
              "      <td>107.72</td>\n",
              "      <td>116.99</td>\n",
              "    </tr>\n",
              "    <tr>\n",
              "      <th>2013-05-02</th>\n",
              "      <td>116.38</td>\n",
              "      <td>125.60</td>\n",
              "      <td>92.28</td>\n",
              "      <td>105.21</td>\n",
              "    </tr>\n",
              "    <tr>\n",
              "      <th>...</th>\n",
              "      <td>...</td>\n",
              "      <td>...</td>\n",
              "      <td>...</td>\n",
              "      <td>...</td>\n",
              "    </tr>\n",
              "    <tr>\n",
              "      <th>2018-02-16</th>\n",
              "      <td>10135.70</td>\n",
              "      <td>10324.10</td>\n",
              "      <td>9824.82</td>\n",
              "      <td>10233.90</td>\n",
              "    </tr>\n",
              "    <tr>\n",
              "      <th>2018-02-17</th>\n",
              "      <td>10207.50</td>\n",
              "      <td>11139.50</td>\n",
              "      <td>10149.40</td>\n",
              "      <td>11112.70</td>\n",
              "    </tr>\n",
              "    <tr>\n",
              "      <th>2018-02-18</th>\n",
              "      <td>11123.40</td>\n",
              "      <td>11349.80</td>\n",
              "      <td>10326.00</td>\n",
              "      <td>10551.80</td>\n",
              "    </tr>\n",
              "    <tr>\n",
              "      <th>2018-02-19</th>\n",
              "      <td>10552.60</td>\n",
              "      <td>11273.80</td>\n",
              "      <td>10513.20</td>\n",
              "      <td>11225.30</td>\n",
              "    </tr>\n",
              "    <tr>\n",
              "      <th>2018-02-20</th>\n",
              "      <td>11231.80</td>\n",
              "      <td>11958.50</td>\n",
              "      <td>11231.80</td>\n",
              "      <td>11403.70</td>\n",
              "    </tr>\n",
              "  </tbody>\n",
              "</table>\n",
              "<p>1760 rows × 4 columns</p>\n",
              "</div>"
            ],
            "text/plain": [
              "                Open      High       Low     Close\n",
              "Date                                              \n",
              "2013-04-28    135.30    135.98    132.10    134.21\n",
              "2013-04-29    134.44    147.49    134.00    144.54\n",
              "2013-04-30    144.00    146.93    134.05    139.00\n",
              "2013-05-01    139.00    139.89    107.72    116.99\n",
              "2013-05-02    116.38    125.60     92.28    105.21\n",
              "...              ...       ...       ...       ...\n",
              "2018-02-16  10135.70  10324.10   9824.82  10233.90\n",
              "2018-02-17  10207.50  11139.50  10149.40  11112.70\n",
              "2018-02-18  11123.40  11349.80  10326.00  10551.80\n",
              "2018-02-19  10552.60  11273.80  10513.20  11225.30\n",
              "2018-02-20  11231.80  11958.50  11231.80  11403.70\n",
              "\n",
              "[1760 rows x 4 columns]"
            ]
          },
          "metadata": {
            "tags": []
          },
          "execution_count": 50
        }
      ]
    },
    {
      "cell_type": "code",
      "metadata": {
        "id": "-p7RPNPs20yh",
        "outputId": "50126fc2-dcd7-42af-d3ff-2454039e3e7b"
      },
      "source": [
        "df['Date'] = pd.to_datetime(df['Date']).dt.date\n",
        "group = df.groupby('Date')\n",
        "group"
      ],
      "execution_count": null,
      "outputs": [
        {
          "output_type": "error",
          "ename": "KeyError",
          "evalue": "'Date'",
          "traceback": [
            "\u001b[1;31m---------------------------------------------------------------------------\u001b[0m",
            "\u001b[1;31mKeyError\u001b[0m                                  Traceback (most recent call last)",
            "\u001b[1;32m~\\anaconda3\\envs\\Prateek Capstone\\lib\\site-packages\\pandas\\core\\indexes\\base.py\u001b[0m in \u001b[0;36mget_loc\u001b[1;34m(self, key, method, tolerance)\u001b[0m\n\u001b[0;32m   2897\u001b[0m             \u001b[1;32mtry\u001b[0m\u001b[1;33m:\u001b[0m\u001b[1;33m\u001b[0m\u001b[1;33m\u001b[0m\u001b[0m\n\u001b[1;32m-> 2898\u001b[1;33m                 \u001b[1;32mreturn\u001b[0m \u001b[0mself\u001b[0m\u001b[1;33m.\u001b[0m\u001b[0m_engine\u001b[0m\u001b[1;33m.\u001b[0m\u001b[0mget_loc\u001b[0m\u001b[1;33m(\u001b[0m\u001b[0mcasted_key\u001b[0m\u001b[1;33m)\u001b[0m\u001b[1;33m\u001b[0m\u001b[1;33m\u001b[0m\u001b[0m\n\u001b[0m\u001b[0;32m   2899\u001b[0m             \u001b[1;32mexcept\u001b[0m \u001b[0mKeyError\u001b[0m \u001b[1;32mas\u001b[0m \u001b[0merr\u001b[0m\u001b[1;33m:\u001b[0m\u001b[1;33m\u001b[0m\u001b[1;33m\u001b[0m\u001b[0m\n",
            "\u001b[1;32mpandas\\_libs\\index.pyx\u001b[0m in \u001b[0;36mpandas._libs.index.IndexEngine.get_loc\u001b[1;34m()\u001b[0m\n",
            "\u001b[1;32mpandas\\_libs\\index.pyx\u001b[0m in \u001b[0;36mpandas._libs.index.IndexEngine.get_loc\u001b[1;34m()\u001b[0m\n",
            "\u001b[1;32mpandas\\_libs\\hashtable_class_helper.pxi\u001b[0m in \u001b[0;36mpandas._libs.hashtable.PyObjectHashTable.get_item\u001b[1;34m()\u001b[0m\n",
            "\u001b[1;32mpandas\\_libs\\hashtable_class_helper.pxi\u001b[0m in \u001b[0;36mpandas._libs.hashtable.PyObjectHashTable.get_item\u001b[1;34m()\u001b[0m\n",
            "\u001b[1;31mKeyError\u001b[0m: 'Date'",
            "\nThe above exception was the direct cause of the following exception:\n",
            "\u001b[1;31mKeyError\u001b[0m                                  Traceback (most recent call last)",
            "\u001b[1;32m<ipython-input-51-3cd815dc1310>\u001b[0m in \u001b[0;36m<module>\u001b[1;34m\u001b[0m\n\u001b[1;32m----> 1\u001b[1;33m \u001b[0mdf\u001b[0m\u001b[1;33m[\u001b[0m\u001b[1;34m'Date'\u001b[0m\u001b[1;33m]\u001b[0m \u001b[1;33m=\u001b[0m \u001b[0mpd\u001b[0m\u001b[1;33m.\u001b[0m\u001b[0mto_datetime\u001b[0m\u001b[1;33m(\u001b[0m\u001b[0mdf\u001b[0m\u001b[1;33m[\u001b[0m\u001b[1;34m'Date'\u001b[0m\u001b[1;33m]\u001b[0m\u001b[1;33m)\u001b[0m\u001b[1;33m.\u001b[0m\u001b[0mdt\u001b[0m\u001b[1;33m.\u001b[0m\u001b[0mdate\u001b[0m\u001b[1;33m\u001b[0m\u001b[1;33m\u001b[0m\u001b[0m\n\u001b[0m\u001b[0;32m      2\u001b[0m \u001b[0mgroup\u001b[0m \u001b[1;33m=\u001b[0m \u001b[0mdf\u001b[0m\u001b[1;33m.\u001b[0m\u001b[0mgroupby\u001b[0m\u001b[1;33m(\u001b[0m\u001b[1;34m'Date'\u001b[0m\u001b[1;33m)\u001b[0m\u001b[1;33m\u001b[0m\u001b[1;33m\u001b[0m\u001b[0m\n\u001b[0;32m      3\u001b[0m \u001b[0mgroup\u001b[0m\u001b[1;33m\u001b[0m\u001b[1;33m\u001b[0m\u001b[0m\n",
            "\u001b[1;32m~\\anaconda3\\envs\\Prateek Capstone\\lib\\site-packages\\pandas\\core\\frame.py\u001b[0m in \u001b[0;36m__getitem__\u001b[1;34m(self, key)\u001b[0m\n\u001b[0;32m   2904\u001b[0m             \u001b[1;32mif\u001b[0m \u001b[0mself\u001b[0m\u001b[1;33m.\u001b[0m\u001b[0mcolumns\u001b[0m\u001b[1;33m.\u001b[0m\u001b[0mnlevels\u001b[0m \u001b[1;33m>\u001b[0m \u001b[1;36m1\u001b[0m\u001b[1;33m:\u001b[0m\u001b[1;33m\u001b[0m\u001b[1;33m\u001b[0m\u001b[0m\n\u001b[0;32m   2905\u001b[0m                 \u001b[1;32mreturn\u001b[0m \u001b[0mself\u001b[0m\u001b[1;33m.\u001b[0m\u001b[0m_getitem_multilevel\u001b[0m\u001b[1;33m(\u001b[0m\u001b[0mkey\u001b[0m\u001b[1;33m)\u001b[0m\u001b[1;33m\u001b[0m\u001b[1;33m\u001b[0m\u001b[0m\n\u001b[1;32m-> 2906\u001b[1;33m             \u001b[0mindexer\u001b[0m \u001b[1;33m=\u001b[0m \u001b[0mself\u001b[0m\u001b[1;33m.\u001b[0m\u001b[0mcolumns\u001b[0m\u001b[1;33m.\u001b[0m\u001b[0mget_loc\u001b[0m\u001b[1;33m(\u001b[0m\u001b[0mkey\u001b[0m\u001b[1;33m)\u001b[0m\u001b[1;33m\u001b[0m\u001b[1;33m\u001b[0m\u001b[0m\n\u001b[0m\u001b[0;32m   2907\u001b[0m             \u001b[1;32mif\u001b[0m \u001b[0mis_integer\u001b[0m\u001b[1;33m(\u001b[0m\u001b[0mindexer\u001b[0m\u001b[1;33m)\u001b[0m\u001b[1;33m:\u001b[0m\u001b[1;33m\u001b[0m\u001b[1;33m\u001b[0m\u001b[0m\n\u001b[0;32m   2908\u001b[0m                 \u001b[0mindexer\u001b[0m \u001b[1;33m=\u001b[0m \u001b[1;33m[\u001b[0m\u001b[0mindexer\u001b[0m\u001b[1;33m]\u001b[0m\u001b[1;33m\u001b[0m\u001b[1;33m\u001b[0m\u001b[0m\n",
            "\u001b[1;32m~\\anaconda3\\envs\\Prateek Capstone\\lib\\site-packages\\pandas\\core\\indexes\\base.py\u001b[0m in \u001b[0;36mget_loc\u001b[1;34m(self, key, method, tolerance)\u001b[0m\n\u001b[0;32m   2898\u001b[0m                 \u001b[1;32mreturn\u001b[0m \u001b[0mself\u001b[0m\u001b[1;33m.\u001b[0m\u001b[0m_engine\u001b[0m\u001b[1;33m.\u001b[0m\u001b[0mget_loc\u001b[0m\u001b[1;33m(\u001b[0m\u001b[0mcasted_key\u001b[0m\u001b[1;33m)\u001b[0m\u001b[1;33m\u001b[0m\u001b[1;33m\u001b[0m\u001b[0m\n\u001b[0;32m   2899\u001b[0m             \u001b[1;32mexcept\u001b[0m \u001b[0mKeyError\u001b[0m \u001b[1;32mas\u001b[0m \u001b[0merr\u001b[0m\u001b[1;33m:\u001b[0m\u001b[1;33m\u001b[0m\u001b[1;33m\u001b[0m\u001b[0m\n\u001b[1;32m-> 2900\u001b[1;33m                 \u001b[1;32mraise\u001b[0m \u001b[0mKeyError\u001b[0m\u001b[1;33m(\u001b[0m\u001b[0mkey\u001b[0m\u001b[1;33m)\u001b[0m \u001b[1;32mfrom\u001b[0m \u001b[0merr\u001b[0m\u001b[1;33m\u001b[0m\u001b[1;33m\u001b[0m\u001b[0m\n\u001b[0m\u001b[0;32m   2901\u001b[0m \u001b[1;33m\u001b[0m\u001b[0m\n\u001b[0;32m   2902\u001b[0m         \u001b[1;32mif\u001b[0m \u001b[0mtolerance\u001b[0m \u001b[1;32mis\u001b[0m \u001b[1;32mnot\u001b[0m \u001b[1;32mNone\u001b[0m\u001b[1;33m:\u001b[0m\u001b[1;33m\u001b[0m\u001b[1;33m\u001b[0m\u001b[0m\n",
            "\u001b[1;31mKeyError\u001b[0m: 'Date'"
          ]
        }
      ]
    },
    {
      "cell_type": "code",
      "metadata": {
        "id": "C96DmZIr20yh"
      },
      "source": [
        "Real_Price = group['Close'].mean()\n",
        "df_train= Real_Price[:len(Real_Price)-30]\n",
        "df_test= Real_Price[len(Real_Price)-30:]\n",
        "Real_Price"
      ],
      "execution_count": null,
      "outputs": []
    },
    {
      "cell_type": "code",
      "metadata": {
        "id": "pjtp0uma20yh"
      },
      "source": [
        "df_train"
      ],
      "execution_count": null,
      "outputs": []
    },
    {
      "cell_type": "code",
      "metadata": {
        "scrolled": true,
        "id": "CbiAPnQz20yi",
        "outputId": "e45f198e-9abb-44e8-f485-514b06aeefa4"
      },
      "source": [
        "df_test"
      ],
      "execution_count": null,
      "outputs": [
        {
          "output_type": "error",
          "ename": "NameError",
          "evalue": "name 'df_test' is not defined",
          "traceback": [
            "\u001b[1;31m---------------------------------------------------------------------------\u001b[0m",
            "\u001b[1;31mNameError\u001b[0m                                 Traceback (most recent call last)",
            "\u001b[1;32m<ipython-input-69-5418cae61a6f>\u001b[0m in \u001b[0;36m<module>\u001b[1;34m\u001b[0m\n\u001b[1;32m----> 1\u001b[1;33m \u001b[0mdf_test\u001b[0m\u001b[1;33m\u001b[0m\u001b[1;33m\u001b[0m\u001b[0m\n\u001b[0m",
            "\u001b[1;31mNameError\u001b[0m: name 'df_test' is not defined"
          ]
        }
      ]
    },
    {
      "cell_type": "code",
      "metadata": {
        "id": "0REA8kaJ20yi",
        "outputId": "e9d30bfc-dbcb-407b-b9a0-c43984e6856e"
      },
      "source": [
        "#process data\n",
        "training_set=df_train.values\n",
        "training_set=np.reshape(training_set, (len(training_set), 1))\n",
        "#df.head\n",
        "training_set"
      ],
      "execution_count": null,
      "outputs": [
        {
          "output_type": "error",
          "ename": "NameError",
          "evalue": "name 'df_train' is not defined",
          "traceback": [
            "\u001b[1;31m---------------------------------------------------------------------------\u001b[0m",
            "\u001b[1;31mNameError\u001b[0m                                 Traceback (most recent call last)",
            "\u001b[1;32m<ipython-input-70-78855c6f101e>\u001b[0m in \u001b[0;36m<module>\u001b[1;34m\u001b[0m\n\u001b[0;32m      1\u001b[0m \u001b[1;31m#process data\u001b[0m\u001b[1;33m\u001b[0m\u001b[1;33m\u001b[0m\u001b[1;33m\u001b[0m\u001b[0m\n\u001b[1;32m----> 2\u001b[1;33m \u001b[0mtraining_set\u001b[0m\u001b[1;33m=\u001b[0m\u001b[0mdf_train\u001b[0m\u001b[1;33m.\u001b[0m\u001b[0mvalues\u001b[0m\u001b[1;33m\u001b[0m\u001b[1;33m\u001b[0m\u001b[0m\n\u001b[0m\u001b[0;32m      3\u001b[0m \u001b[0mtraining_set\u001b[0m\u001b[1;33m=\u001b[0m\u001b[0mnp\u001b[0m\u001b[1;33m.\u001b[0m\u001b[0mreshape\u001b[0m\u001b[1;33m(\u001b[0m\u001b[0mtraining_set\u001b[0m\u001b[1;33m,\u001b[0m \u001b[1;33m(\u001b[0m\u001b[0mlen\u001b[0m\u001b[1;33m(\u001b[0m\u001b[0mtraining_set\u001b[0m\u001b[1;33m)\u001b[0m\u001b[1;33m,\u001b[0m \u001b[1;36m1\u001b[0m\u001b[1;33m)\u001b[0m\u001b[1;33m)\u001b[0m\u001b[1;33m\u001b[0m\u001b[1;33m\u001b[0m\u001b[0m\n\u001b[0;32m      4\u001b[0m \u001b[1;31m#df.head\u001b[0m\u001b[1;33m\u001b[0m\u001b[1;33m\u001b[0m\u001b[1;33m\u001b[0m\u001b[0m\n\u001b[0;32m      5\u001b[0m \u001b[0mtraining_set\u001b[0m\u001b[1;33m\u001b[0m\u001b[1;33m\u001b[0m\u001b[0m\n",
            "\u001b[1;31mNameError\u001b[0m: name 'df_train' is not defined"
          ]
        }
      ]
    },
    {
      "cell_type": "code",
      "metadata": {
        "id": "0PP943hQ20yj"
      },
      "source": [
        "from sklearn.preprocessing import MinMaxScaler\n",
        "sc=MinMaxScaler()\n",
        "training_set=sc.fit_transform(training_set)\n",
        "X_train= training_set[0:len(training_set)-1]\n",
        "y_train= training_set[1:len(training_set)]\n",
        "X_train"
      ],
      "execution_count": null,
      "outputs": []
    },
    {
      "cell_type": "code",
      "metadata": {
        "id": "pDJf4Kzc20yj"
      },
      "source": [
        "y_train"
      ],
      "execution_count": null,
      "outputs": []
    },
    {
      "cell_type": "code",
      "metadata": {
        "id": "jMGBUNtY20yk"
      },
      "source": [
        "X_train= np.reshape(X_train, (len(X_train), 1, 1))"
      ],
      "execution_count": null,
      "outputs": []
    },
    {
      "cell_type": "code",
      "metadata": {
        "scrolled": true,
        "id": "61mDoJy420yk"
      },
      "source": [
        "#importing the keras libraries and packages\n",
        "from keras.models import Sequential\n",
        "from keras.layers import Dense\n",
        "from keras.layers import LSTM\n",
        "# Initialising the RNN\n",
        "regressor = Sequential()\n",
        "\n",
        "# Adding the input layer and the LSTM layer\n",
        "regressor.add(LSTM(units = 4, activation = 'sigmoid', input_shape = (None, 1)))\n",
        "\n",
        "# Adding the output layer\n",
        "regressor.add(Dense(units = 1))\n",
        "\n",
        "# Compiling the RNNregressor.compile(optimizer = 'adam', loss = 'mean_squared_error')\n",
        "regressor.compile(optimizer = 'adam', loss = 'mean_squared_error')\n",
        "# Fitting the RNN to the Training set\n",
        "regressor.fit(X_train, y_train, batch_size = 5, epochs = 100)"
      ],
      "execution_count": null,
      "outputs": []
    },
    {
      "cell_type": "code",
      "metadata": {
        "id": "WrgRxsBD20yk"
      },
      "source": [
        "# Making the predictions\n",
        "test_set = df_test.values\n",
        "inputs = np.reshape(test_set, (len(test_set), 1))\n",
        "inputs = sc.transform(inputs)\n",
        "inputs = np.reshape(inputs, (len(inputs), 1, 1))\n",
        "predicted_BTC_price = regressor.predict(inputs)\n",
        "predicted_BTC_price = sc.inverse_transform(predicted_BTC_price)"
      ],
      "execution_count": null,
      "outputs": []
    },
    {
      "cell_type": "code",
      "metadata": {
        "scrolled": true,
        "id": "ieqIknoH20yl"
      },
      "source": [
        "predicted_BTC_price"
      ],
      "execution_count": null,
      "outputs": []
    },
    {
      "cell_type": "code",
      "metadata": {
        "scrolled": true,
        "id": "uZ1UAQrk20yl"
      },
      "source": [
        "df_test"
      ],
      "execution_count": null,
      "outputs": []
    },
    {
      "cell_type": "code",
      "metadata": {
        "id": "3PgXcq2J20ym"
      },
      "source": [
        "# Visualising the results\n",
        "plt.figure(figsize=(25,15), dpi=100, facecolor='w', edgecolor='k')\n",
        "ax = plt.gca()  \n",
        "plt.plot(test_set, color = 'red', label = 'Real BTC Value')\n",
        "plt.plot(predicted_BTC_price, color = 'blue', label = 'Predicted BTC Price')\n",
        "plt.title('BTC Price Prediction', fontsize=20)\n",
        "df_test = df_test.reset_index()\n",
        "x=df_test.index\n",
        "labels = df_test['Date']\n",
        "plt.xticks(x, labels, rotation = 'vertical')\n",
        "for tick in ax.xaxis.get_major_ticks():\n",
        "    tick.label1.set_fontsize(10)\n",
        "for tick in ax.yaxis.get_major_ticks():\n",
        "    tick.label1.set_fontsize(10)\n",
        "plt.xlabel('Time', fontsize=10)\n",
        "plt.ylabel('BTC Price(USD)', fontsize=20)\n",
        "plt.legend(loc=2, prop={'size': 25})\n",
        "plt.show()"
      ],
      "execution_count": null,
      "outputs": []
    },
    {
      "cell_type": "code",
      "metadata": {
        "id": "GVWcXGTS20ym"
      },
      "source": [
        "from math import sqrt\n",
        "predicted_BTC_price = predicted_BTC_price.ravel() \n",
        "TM_MSE = np.mean((predicted_BTC_price - df_test['Close']) ** 2)\n",
        "TM_RMSE = sqrt(TM_MSE)\n",
        "TM_MSE, TM_RMSE"
      ],
      "execution_count": null,
      "outputs": []
    },
    {
      "cell_type": "markdown",
      "metadata": {
        "id": "fddVi3xW20ym"
      },
      "source": [
        " "
      ]
    },
    {
      "cell_type": "code",
      "metadata": {
        "id": "T5ZJ7fQe20yn"
      },
      "source": [
        ""
      ],
      "execution_count": null,
      "outputs": []
    },
    {
      "cell_type": "code",
      "metadata": {
        "id": "RgIc9U8022UR"
      },
      "source": [
        ""
      ],
      "execution_count": null,
      "outputs": []
    }
  ]
}